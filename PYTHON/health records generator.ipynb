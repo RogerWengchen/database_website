{
 "cells": [
  {
   "cell_type": "code",
   "execution_count": 2,
   "id": "a8166c48",
   "metadata": {},
   "outputs": [],
   "source": [
    "import pandas as pd\n",
    "import random\n",
    "from datetime import timedelta, date\n",
    "\n",
    "# Sample medical histories, medications, and diseases\n",
    "medical_histories = [\"Musculoskeletal Disorders\", \"Respiratory Diseases\", \"Cardiovascular Diseases\", \"Skin Disorders\", \"None\"]\n",
    "current_medications = [\"Anti-inflammatory\", \"Bronchodilators\", \"Anti-hypertensive\", \"Antihistamines\", \"None\"]\n",
    "disease_types = [\"Asthma\", \"Hypertension\", \"Back Pain\", \"Dermatitis\", \"None\"]\n",
    "\n",
    "# Generate random date\n",
    "def random_date(start, end):\n",
    "    return start + timedelta(days=random.randint(0, int((end - start).days)))\n",
    "\n",
    "# Initialize empty list to hold records\n",
    "health_records = []\n",
    "\n",
    "# Generate 3200 health records\n",
    "for i in range(3200):\n",
    "    worker_id = random.randint(1, 1000)  # WorkerIDs range from 1 to 1000 for this example\n",
    "    medical_history = random.choices(medical_histories, [0.1, 0.2, 0.3, 0.2, 0.2], k=1)[0]\n",
    "    current_medication = random.choices(current_medications, [0.2, 0.2, 0.2, 0.2, 0.2], k=1)[0]\n",
    "    disease_type = random.choices(disease_types, [0.2, 0.2, 0.2, 0.2, 0.2], k=1)[0]\n",
    "    \n",
    "    # Assuming they joined on 2019-01-01 and left on 2023-01-01 for this example\n",
    "    record_date = random_date(date(2019, 1, 1), date(2023, 1, 1))\n",
    "\n",
    "    health_record = {\n",
    "        \"RecordID\": i + 1,\n",
    "        \"WorkerID\": worker_id,\n",
    "        \"MedicalHistory\": medical_history,\n",
    "        \"CurrentMedications\": current_medication,\n",
    "        \"DiseaseTypes\": disease_type,\n",
    "        \"RecordDate\": record_date\n",
    "    }\n",
    "    \n",
    "    health_records.append(health_record)\n",
    "\n",
    "# Convert to DataFrame\n",
    "df = pd.DataFrame(health_records)\n",
    "\n",
    "# Export to CSV\n",
    "df.to_csv(\"HealthRecords.csv\", index=False)\n"
   ]
  },
  {
   "cell_type": "code",
   "execution_count": null,
   "id": "f8aa1bbe",
   "metadata": {},
   "outputs": [],
   "source": []
  }
 ],
 "metadata": {
  "kernelspec": {
   "display_name": "Python 3 (ipykernel)",
   "language": "python",
   "name": "python3"
  },
  "language_info": {
   "codemirror_mode": {
    "name": "ipython",
    "version": 3
   },
   "file_extension": ".py",
   "mimetype": "text/x-python",
   "name": "python",
   "nbconvert_exporter": "python",
   "pygments_lexer": "ipython3",
   "version": "3.11.4"
  }
 },
 "nbformat": 4,
 "nbformat_minor": 5
}
