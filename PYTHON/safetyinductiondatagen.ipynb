{
 "cells": [
  {
   "cell_type": "code",
   "execution_count": 5,
   "id": "11f6913d",
   "metadata": {},
   "outputs": [
    {
     "name": "stderr",
     "output_type": "stream",
     "text": [
      "C:\\Users\\muchi\\AppData\\Local\\Temp\\ipykernel_11028\\271713316.py:25: FutureWarning: Comparison of Timestamp with datetime.date is deprecated in order to match the standard library behavior. In a future version these will be considered non-comparable. Use 'ts == pd.Timestamp(date)' or 'ts.date() == date' instead.\n",
      "  while date_joined <= date_left:\n"
     ]
    }
   ],
   "source": [
    "import pandas as pd\n",
    "import random\n",
    "from datetime import timedelta, date\n",
    "\n",
    "# Load the existing worker_dataset.csv into a DataFrame\n",
    "workers_df = pd.read_csv('worker_dataset.csv')\n",
    "\n",
    "# Create a list of induction types\n",
    "induction_types = ['Fire Safety', 'Equipment Handling', 'Emergency Response', 'First Aid', 'Chemical Safety']\n",
    "\n",
    "# Initialize lists to store the dataset\n",
    "record_ids = []\n",
    "worker_ids = []\n",
    "induction_types_list = []\n",
    "induction_dates = []\n",
    "induction_scores = []\n",
    "\n",
    "# Generate the safety induction records\n",
    "record_id = 1\n",
    "for index, row in workers_df.iterrows():\n",
    "    worker_id = row['WorkerID']\n",
    "    date_joined = pd.to_datetime(row['DateJoined'])\n",
    "    date_left = pd.to_datetime(row['DateLeft']) if not pd.isna(row['DateLeft']) else date.today()\n",
    "    \n",
    "    while date_joined <= date_left:\n",
    "        record_ids.append(record_id)\n",
    "        worker_ids.append(worker_id)\n",
    "        induction_types_list.append(random.choice(induction_types))\n",
    "        induction_dates.append(date_joined)\n",
    "        \n",
    "        # Generate an induction score with a 50% chance of scoring at least 80\n",
    "        score = random.randint(80, 100) if random.random() > 0.5 else random.randint(0, 79)\n",
    "        induction_scores.append(score)\n",
    "        \n",
    "        # Increment record_id and date_joined for next iteration\n",
    "        record_id += 1\n",
    "        date_joined += pd.DateOffset(years=1)\n",
    "\n",
    "# Create a DataFrame\n",
    "safety_induction_df = pd.DataFrame({\n",
    "    'RecordID': record_ids,\n",
    "    'WorkerID': worker_ids,\n",
    "    'InductionType': induction_types_list,\n",
    "    'InductionDate': induction_dates,\n",
    "    'InductionScore': induction_scores\n",
    "})\n",
    "\n",
    "# Save the DataFrame to a CSV file\n",
    "safety_induction_df.to_csv('safety_induction_dataset.csv', index=False)\n"
   ]
  },
  {
   "cell_type": "code",
   "execution_count": null,
   "id": "d8a3df6e",
   "metadata": {},
   "outputs": [],
   "source": []
  }
 ],
 "metadata": {
  "kernelspec": {
   "display_name": "Python 3 (ipykernel)",
   "language": "python",
   "name": "python3"
  },
  "language_info": {
   "codemirror_mode": {
    "name": "ipython",
    "version": 3
   },
   "file_extension": ".py",
   "mimetype": "text/x-python",
   "name": "python",
   "nbconvert_exporter": "python",
   "pygments_lexer": "ipython3",
   "version": "3.9.12"
  }
 },
 "nbformat": 4,
 "nbformat_minor": 5
}
