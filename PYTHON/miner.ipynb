{
  "nbformat": 4,
  "nbformat_minor": 5,
  "metadata": {
    "kernel_info": {
      "name": "python3"
    },
    "kernelspec": {
      "display_name": "Python 3.9",
      "language": "python",
      "name": "python3"
    },
    "selected_hardware_size": "small"
  },
  "cells": [
    {
      "id": "ecfd3e92",
      "cell_type": "code",
      "metadata": {},
      "execution_count": null,
      "source": "",
      "outputs": []
    },
    {
      "id": "23ed873f-5829-40fc-871e-114a6d2ff7ea",
      "cell_type": "code",
      "metadata": {
        "jupyter": {
          "outputs_hidden": false,
          "source_hidden": false
        },
        "noteable": {
          "cell_type": "code",
          "output_collection_id": "e08207d2-f213-494e-af85-321f86519e5e"
        },
        "datalink": {
          "626eb178-fab2-4623-ae83-6f3408880a26": {
            "applied_filters": [],
            "dataframe_info": {
              "default_index_used": true,
              "orig_num_cols": 7,
              "orig_num_rows": 1000,
              "orig_size_bytes": 49132,
              "truncated_num_cols": 8,
              "truncated_num_rows": 1000,
              "truncated_size_bytes": 57132
            },
            "display_id": "626eb178-fab2-4623-ae83-6f3408880a26",
            "dx_settings": {
              "ALLOW_NOTEABLE_ATTRS": true,
              "COLUMN_SAMPLING_METHOD": "outer",
              "DB_LOCATION": ":memory:",
              "DEV_MODE": false,
              "DISPLAY_MAX_COLUMNS": 50,
              "DISPLAY_MAX_ROWS": 50000,
              "DISPLAY_MODE": "simple",
              "ENABLE_ASSIGNMENT": true,
              "ENABLE_DATALINK": false,
              "ENABLE_RENAMER": true,
              "FLATTEN_COLUMN_VALUES": true,
              "FLATTEN_INDEX_VALUES": false,
              "GENERATE_DEX_METADATA": false,
              "HTML_TABLE_SCHEMA": false,
              "LOG_LEVEL": 30,
              "MAX_RENDER_SIZE_BYTES": 104857600,
              "NUM_PAST_SAMPLES_TRACKED": 3,
              "RANDOM_STATE": 12648430,
              "RESET_INDEX_VALUES": false,
              "ROW_SAMPLING_METHOD": "random",
              "SAMPLING_FACTOR": 0.1,
              "SAMPLING_METHOD": "random",
              "STRINGIFY_COLUMN_VALUES": true,
              "STRINGIFY_INDEX_VALUES": false
            },
            "sample_history": [],
            "sampling_time": "2023-09-05T06:17:43.963293",
            "user_variable_name": "pd.read_csv('worker_dataset.csv')",
            "variable_name": "CSV_TO_GRID_DF"
          },
          "2b44ea76-8b4d-4cf7-bdaf-383e4f363a83": {
            "applied_filters": [],
            "dataframe_info": {
              "default_index_used": true,
              "orig_num_cols": 7,
              "orig_num_rows": 1000,
              "orig_size_bytes": 57000,
              "truncated_num_cols": 7,
              "truncated_num_rows": 1000,
              "truncated_size_bytes": 57000,
              "truncated_string_columns": []
            },
            "display_id": "2b44ea76-8b4d-4cf7-bdaf-383e4f363a83",
            "dx_settings": {
              "ALLOW_NOTEABLE_ATTRS": true,
              "COLUMN_SAMPLING_METHOD": "outer",
              "DB_LOCATION": ":memory:",
              "DEV_MODE": false,
              "DISPLAY_MAX_COLUMNS": 100,
              "DISPLAY_MAX_ROWS": 50000,
              "DISPLAY_MODE": "simple",
              "ENABLE_ASSIGNMENT": true,
              "ENABLE_DATALINK": true,
              "FLATTEN_COLUMN_VALUES": true,
              "FLATTEN_INDEX_VALUES": false,
              "GENERATE_DEX_METADATA": false,
              "HTML_TABLE_SCHEMA": false,
              "LOG_LEVEL": 30,
              "MAX_RENDER_SIZE_BYTES": 104857600,
              "MAX_STRING_LENGTH": 250,
              "NUM_PAST_SAMPLES_TRACKED": 3,
              "RANDOM_STATE": 12648430,
              "RESET_INDEX_VALUES": false,
              "ROW_SAMPLING_METHOD": "random",
              "SAMPLING_FACTOR": 0.1,
              "SAMPLING_METHOD": "random",
              "STRINGIFY_COLUMN_VALUES": true,
              "STRINGIFY_INDEX_VALUES": false
            },
            "sample_history": [],
            "sampling_time": "2023-09-09T06:29:45.547175",
            "user_variable_name": null,
            "variable_name": "unk_dataframe_8fa1329cfe87406097bc1aa10d0398fd"
          },
          "aa233ed9-5dbf-4b37-bcb0-4824ae458480": {
            "applied_filters": [],
            "dataframe_info": {
              "default_index_used": true,
              "orig_num_cols": 7,
              "orig_num_rows": 1000,
              "orig_size_bytes": 57000,
              "truncated_num_cols": 7,
              "truncated_num_rows": 1000,
              "truncated_size_bytes": 57000,
              "truncated_string_columns": []
            },
            "display_id": "aa233ed9-5dbf-4b37-bcb0-4824ae458480",
            "dx_settings": {
              "ALLOW_NOTEABLE_ATTRS": true,
              "COLUMN_SAMPLING_METHOD": "outer",
              "DB_LOCATION": ":memory:",
              "DEV_MODE": false,
              "DISPLAY_MAX_COLUMNS": 100,
              "DISPLAY_MAX_ROWS": 50000,
              "DISPLAY_MODE": "simple",
              "ENABLE_ASSIGNMENT": true,
              "ENABLE_DATALINK": true,
              "FLATTEN_COLUMN_VALUES": true,
              "FLATTEN_INDEX_VALUES": false,
              "GENERATE_DEX_METADATA": false,
              "HTML_TABLE_SCHEMA": false,
              "LOG_LEVEL": 30,
              "MAX_RENDER_SIZE_BYTES": 104857600,
              "MAX_STRING_LENGTH": 250,
              "NUM_PAST_SAMPLES_TRACKED": 3,
              "RANDOM_STATE": 12648430,
              "RESET_INDEX_VALUES": false,
              "ROW_SAMPLING_METHOD": "random",
              "SAMPLING_FACTOR": 0.1,
              "SAMPLING_METHOD": "random",
              "STRINGIFY_COLUMN_VALUES": true,
              "STRINGIFY_INDEX_VALUES": false
            },
            "sample_history": [],
            "sampling_time": "2023-09-09T06:31:20.157064",
            "user_variable_name": "df",
            "variable_name": "df"
          },
          "bdaecd96-824e-42fb-a389-a9f5edd9b54c": {
            "applied_filters": [],
            "dataframe_info": {
              "default_index_used": true,
              "orig_num_cols": 7,
              "orig_num_rows": 1000,
              "orig_size_bytes": 57000,
              "truncated_num_cols": 7,
              "truncated_num_rows": 1000,
              "truncated_size_bytes": 57000,
              "truncated_string_columns": []
            },
            "display_id": "bdaecd96-824e-42fb-a389-a9f5edd9b54c",
            "dx_settings": {
              "ALLOW_NOTEABLE_ATTRS": true,
              "COLUMN_SAMPLING_METHOD": "outer",
              "DB_LOCATION": ":memory:",
              "DEV_MODE": false,
              "DISPLAY_MAX_COLUMNS": 100,
              "DISPLAY_MAX_ROWS": 50000,
              "DISPLAY_MODE": "simple",
              "ENABLE_ASSIGNMENT": true,
              "ENABLE_DATALINK": true,
              "FLATTEN_COLUMN_VALUES": true,
              "FLATTEN_INDEX_VALUES": false,
              "GENERATE_DEX_METADATA": false,
              "HTML_TABLE_SCHEMA": false,
              "LOG_LEVEL": 30,
              "MAX_RENDER_SIZE_BYTES": 104857600,
              "MAX_STRING_LENGTH": 250,
              "NUM_PAST_SAMPLES_TRACKED": 3,
              "RANDOM_STATE": 12648430,
              "RESET_INDEX_VALUES": false,
              "ROW_SAMPLING_METHOD": "random",
              "SAMPLING_FACTOR": 0.1,
              "SAMPLING_METHOD": "random",
              "STRINGIFY_COLUMN_VALUES": true,
              "STRINGIFY_INDEX_VALUES": false
            },
            "sample_history": [],
            "sampling_time": "2023-09-09T07:27:21.485438",
            "user_variable_name": null,
            "variable_name": "unk_dataframe_ded7e1c1eaca45cab01d8fe1f057325e"
          },
          "d1531887-ee56-46ff-b148-fe12f9e265de": {
            "applied_filters": [],
            "dataframe_info": {
              "default_index_used": true,
              "orig_num_cols": 7,
              "orig_num_rows": 1000,
              "orig_size_bytes": 57000,
              "truncated_num_cols": 7,
              "truncated_num_rows": 1000,
              "truncated_size_bytes": 57000,
              "truncated_string_columns": []
            },
            "display_id": "d1531887-ee56-46ff-b148-fe12f9e265de",
            "dx_settings": {
              "ALLOW_NOTEABLE_ATTRS": true,
              "COLUMN_SAMPLING_METHOD": "outer",
              "DB_LOCATION": ":memory:",
              "DEV_MODE": false,
              "DISPLAY_MAX_COLUMNS": 100,
              "DISPLAY_MAX_ROWS": 50000,
              "DISPLAY_MODE": "simple",
              "ENABLE_ASSIGNMENT": true,
              "ENABLE_DATALINK": true,
              "FLATTEN_COLUMN_VALUES": true,
              "FLATTEN_INDEX_VALUES": false,
              "GENERATE_DEX_METADATA": false,
              "HTML_TABLE_SCHEMA": false,
              "LOG_LEVEL": 30,
              "MAX_RENDER_SIZE_BYTES": 104857600,
              "MAX_STRING_LENGTH": 250,
              "NUM_PAST_SAMPLES_TRACKED": 3,
              "RANDOM_STATE": 12648430,
              "RESET_INDEX_VALUES": false,
              "ROW_SAMPLING_METHOD": "random",
              "SAMPLING_FACTOR": 0.1,
              "SAMPLING_METHOD": "random",
              "STRINGIFY_COLUMN_VALUES": true,
              "STRINGIFY_INDEX_VALUES": false
            },
            "sample_history": [],
            "sampling_time": "2023-09-09T08:00:58.303423",
            "user_variable_name": null,
            "variable_name": "unk_dataframe_6c0e5fb6249d4ae1afd105f5a04ada63"
          },
          "70ccb08a-3f3f-4af9-ac0d-77262859088c": {
            "applied_filters": [],
            "dataframe_info": {
              "default_index_used": true,
              "orig_num_cols": 7,
              "orig_num_rows": 1000,
              "orig_size_bytes": 57000,
              "truncated_num_cols": 7,
              "truncated_num_rows": 1000,
              "truncated_size_bytes": 57000,
              "truncated_string_columns": []
            },
            "display_id": "70ccb08a-3f3f-4af9-ac0d-77262859088c",
            "dx_settings": {
              "ALLOW_NOTEABLE_ATTRS": true,
              "COLUMN_SAMPLING_METHOD": "outer",
              "DB_LOCATION": ":memory:",
              "DEV_MODE": false,
              "DISPLAY_MAX_COLUMNS": 100,
              "DISPLAY_MAX_ROWS": 50000,
              "DISPLAY_MODE": "simple",
              "ENABLE_ASSIGNMENT": true,
              "ENABLE_DATALINK": true,
              "FLATTEN_COLUMN_VALUES": true,
              "FLATTEN_INDEX_VALUES": false,
              "GENERATE_DEX_METADATA": false,
              "HTML_TABLE_SCHEMA": false,
              "LOG_LEVEL": 30,
              "MAX_RENDER_SIZE_BYTES": 104857600,
              "MAX_STRING_LENGTH": 250,
              "NUM_PAST_SAMPLES_TRACKED": 3,
              "RANDOM_STATE": 12648430,
              "RESET_INDEX_VALUES": false,
              "ROW_SAMPLING_METHOD": "random",
              "SAMPLING_FACTOR": 0.1,
              "SAMPLING_METHOD": "random",
              "STRINGIFY_COLUMN_VALUES": true,
              "STRINGIFY_INDEX_VALUES": false
            },
            "sample_history": [],
            "sampling_time": "2023-09-09T08:12:01.585776",
            "user_variable_name": null,
            "variable_name": "unk_dataframe_9be1b597911a4d1eb1568e2dccc516e6"
          },
          "924dcb3e-f4f9-44b1-80bf-8ba6e840c972": {
            "applied_filters": [],
            "dataframe_info": {
              "default_index_used": true,
              "orig_num_cols": 7,
              "orig_num_rows": 1000,
              "orig_size_bytes": 57000,
              "truncated_num_cols": 7,
              "truncated_num_rows": 1000,
              "truncated_size_bytes": 57000,
              "truncated_string_columns": []
            },
            "display_id": "924dcb3e-f4f9-44b1-80bf-8ba6e840c972",
            "dx_settings": {
              "ALLOW_NOTEABLE_ATTRS": true,
              "COLUMN_SAMPLING_METHOD": "outer",
              "DB_LOCATION": ":memory:",
              "DEV_MODE": false,
              "DISPLAY_MAX_COLUMNS": 100,
              "DISPLAY_MAX_ROWS": 50000,
              "DISPLAY_MODE": "simple",
              "ENABLE_ASSIGNMENT": true,
              "ENABLE_DATALINK": true,
              "FLATTEN_COLUMN_VALUES": true,
              "FLATTEN_INDEX_VALUES": false,
              "GENERATE_DEX_METADATA": false,
              "HTML_TABLE_SCHEMA": false,
              "LOG_LEVEL": 30,
              "MAX_RENDER_SIZE_BYTES": 104857600,
              "MAX_STRING_LENGTH": 250,
              "NUM_PAST_SAMPLES_TRACKED": 3,
              "RANDOM_STATE": 12648430,
              "RESET_INDEX_VALUES": false,
              "ROW_SAMPLING_METHOD": "random",
              "SAMPLING_FACTOR": 0.1,
              "SAMPLING_METHOD": "random",
              "STRINGIFY_COLUMN_VALUES": true,
              "STRINGIFY_INDEX_VALUES": false
            },
            "sample_history": [],
            "sampling_time": "2023-09-09T08:19:32.247114",
            "user_variable_name": null,
            "variable_name": "unk_dataframe_5e4d9146785b489e9a1c614003346764"
          },
          "5b4a80ad-fc6f-41c7-8a5f-d7d96a5e165a": {
            "applied_filters": [],
            "dataframe_info": {
              "default_index_used": true,
              "orig_num_cols": 7,
              "orig_num_rows": 1000,
              "orig_size_bytes": 57000,
              "truncated_num_cols": 7,
              "truncated_num_rows": 1000,
              "truncated_size_bytes": 57000,
              "truncated_string_columns": []
            },
            "display_id": "5b4a80ad-fc6f-41c7-8a5f-d7d96a5e165a",
            "dx_settings": {
              "ALLOW_NOTEABLE_ATTRS": true,
              "COLUMN_SAMPLING_METHOD": "outer",
              "DB_LOCATION": ":memory:",
              "DEV_MODE": false,
              "DISPLAY_MAX_COLUMNS": 100,
              "DISPLAY_MAX_ROWS": 50000,
              "DISPLAY_MODE": "simple",
              "ENABLE_ASSIGNMENT": true,
              "ENABLE_DATALINK": true,
              "FLATTEN_COLUMN_VALUES": true,
              "FLATTEN_INDEX_VALUES": false,
              "GENERATE_DEX_METADATA": false,
              "HTML_TABLE_SCHEMA": false,
              "LOG_LEVEL": 30,
              "MAX_RENDER_SIZE_BYTES": 104857600,
              "MAX_STRING_LENGTH": 250,
              "NUM_PAST_SAMPLES_TRACKED": 3,
              "RANDOM_STATE": 12648430,
              "RESET_INDEX_VALUES": false,
              "ROW_SAMPLING_METHOD": "random",
              "SAMPLING_FACTOR": 0.1,
              "SAMPLING_METHOD": "random",
              "STRINGIFY_COLUMN_VALUES": true,
              "STRINGIFY_INDEX_VALUES": false
            },
            "sample_history": [],
            "sampling_time": "2023-09-09T08:22:00.151996",
            "user_variable_name": null,
            "variable_name": "unk_dataframe_5a280656ea5c406988a804631d0f6c43"
          },
          "91bd0c7f-4044-4918-9c20-e3ffaf1816fe": {
            "applied_filters": [],
            "dataframe_info": {
              "default_index_used": true,
              "orig_num_cols": 7,
              "orig_num_rows": 1000,
              "orig_size_bytes": 57000,
              "truncated_num_cols": 7,
              "truncated_num_rows": 1000,
              "truncated_size_bytes": 57000,
              "truncated_string_columns": []
            },
            "display_id": "91bd0c7f-4044-4918-9c20-e3ffaf1816fe",
            "dx_settings": {
              "ALLOW_NOTEABLE_ATTRS": true,
              "COLUMN_SAMPLING_METHOD": "outer",
              "DB_LOCATION": ":memory:",
              "DEV_MODE": false,
              "DISPLAY_MAX_COLUMNS": 100,
              "DISPLAY_MAX_ROWS": 50000,
              "DISPLAY_MODE": "simple",
              "ENABLE_ASSIGNMENT": true,
              "ENABLE_DATALINK": true,
              "FLATTEN_COLUMN_VALUES": true,
              "FLATTEN_INDEX_VALUES": false,
              "GENERATE_DEX_METADATA": false,
              "HTML_TABLE_SCHEMA": false,
              "LOG_LEVEL": 30,
              "MAX_RENDER_SIZE_BYTES": 104857600,
              "MAX_STRING_LENGTH": 250,
              "NUM_PAST_SAMPLES_TRACKED": 3,
              "RANDOM_STATE": 12648430,
              "RESET_INDEX_VALUES": false,
              "ROW_SAMPLING_METHOD": "random",
              "SAMPLING_FACTOR": 0.1,
              "SAMPLING_METHOD": "random",
              "STRINGIFY_COLUMN_VALUES": true,
              "STRINGIFY_INDEX_VALUES": false
            },
            "sample_history": [],
            "sampling_time": "2023-09-09T08:23:00.642820",
            "user_variable_name": null,
            "variable_name": "unk_dataframe_b6daf617a9f74ff88af5f26d36f81f87"
          },
          "20a691c0-7820-47db-926a-3feda46dea3d": {
            "applied_filters": [],
            "dataframe_info": {
              "default_index_used": true,
              "orig_num_cols": 7,
              "orig_num_rows": 1000,
              "orig_size_bytes": 57000,
              "truncated_num_cols": 7,
              "truncated_num_rows": 1000,
              "truncated_size_bytes": 57000,
              "truncated_string_columns": []
            },
            "display_id": "20a691c0-7820-47db-926a-3feda46dea3d",
            "dx_settings": {
              "ALLOW_NOTEABLE_ATTRS": true,
              "COLUMN_SAMPLING_METHOD": "outer",
              "DB_LOCATION": ":memory:",
              "DEV_MODE": false,
              "DISPLAY_MAX_COLUMNS": 100,
              "DISPLAY_MAX_ROWS": 50000,
              "DISPLAY_MODE": "simple",
              "ENABLE_ASSIGNMENT": true,
              "ENABLE_DATALINK": true,
              "FLATTEN_COLUMN_VALUES": true,
              "FLATTEN_INDEX_VALUES": false,
              "GENERATE_DEX_METADATA": false,
              "HTML_TABLE_SCHEMA": false,
              "LOG_LEVEL": 30,
              "MAX_RENDER_SIZE_BYTES": 104857600,
              "MAX_STRING_LENGTH": 250,
              "NUM_PAST_SAMPLES_TRACKED": 3,
              "RANDOM_STATE": 12648430,
              "RESET_INDEX_VALUES": false,
              "ROW_SAMPLING_METHOD": "random",
              "SAMPLING_FACTOR": 0.1,
              "SAMPLING_METHOD": "random",
              "STRINGIFY_COLUMN_VALUES": true,
              "STRINGIFY_INDEX_VALUES": false
            },
            "sample_history": [],
            "sampling_time": "2023-09-09T09:37:59.807506",
            "user_variable_name": null,
            "variable_name": "unk_dataframe_cdd4b4f23ad84ff9a14603a132055c1f"
          },
          "c473e62c-47c9-4b7e-b111-da9ffdf22e4f": {
            "applied_filters": [],
            "dataframe_info": {
              "default_index_used": true,
              "orig_num_cols": 7,
              "orig_num_rows": 1000,
              "orig_size_bytes": 57000,
              "truncated_num_cols": 7,
              "truncated_num_rows": 1000,
              "truncated_size_bytes": 57000,
              "truncated_string_columns": []
            },
            "display_id": "c473e62c-47c9-4b7e-b111-da9ffdf22e4f",
            "dx_settings": {
              "ALLOW_NOTEABLE_ATTRS": true,
              "COLUMN_SAMPLING_METHOD": "outer",
              "DB_LOCATION": ":memory:",
              "DEV_MODE": false,
              "DISPLAY_MAX_COLUMNS": 100,
              "DISPLAY_MAX_ROWS": 50000,
              "DISPLAY_MODE": "simple",
              "ENABLE_ASSIGNMENT": true,
              "ENABLE_DATALINK": true,
              "FLATTEN_COLUMN_VALUES": true,
              "FLATTEN_INDEX_VALUES": false,
              "GENERATE_DEX_METADATA": false,
              "HTML_TABLE_SCHEMA": false,
              "LOG_LEVEL": 30,
              "MAX_RENDER_SIZE_BYTES": 104857600,
              "MAX_STRING_LENGTH": 250,
              "NUM_PAST_SAMPLES_TRACKED": 3,
              "RANDOM_STATE": 12648430,
              "RESET_INDEX_VALUES": false,
              "ROW_SAMPLING_METHOD": "random",
              "SAMPLING_FACTOR": 0.1,
              "SAMPLING_METHOD": "random",
              "STRINGIFY_COLUMN_VALUES": true,
              "STRINGIFY_INDEX_VALUES": false
            },
            "sample_history": [],
            "sampling_time": "2023-09-09T10:25:17.694835",
            "user_variable_name": null,
            "variable_name": "unk_dataframe_6c6bec739a794948aa002de93b44760d"
          },
          "6f7208ba-a080-4a4d-9c99-afbb592402e7": {
            "applied_filters": [],
            "dataframe_info": {
              "default_index_used": true,
              "orig_num_cols": 7,
              "orig_num_rows": 1000,
              "orig_size_bytes": 57000,
              "truncated_num_cols": 7,
              "truncated_num_rows": 1000,
              "truncated_size_bytes": 57000,
              "truncated_string_columns": []
            },
            "display_id": "6f7208ba-a080-4a4d-9c99-afbb592402e7",
            "dx_settings": {
              "ALLOW_NOTEABLE_ATTRS": true,
              "COLUMN_SAMPLING_METHOD": "outer",
              "DB_LOCATION": ":memory:",
              "DEV_MODE": false,
              "DISPLAY_MAX_COLUMNS": 100,
              "DISPLAY_MAX_ROWS": 50000,
              "DISPLAY_MODE": "simple",
              "ENABLE_ASSIGNMENT": true,
              "ENABLE_DATALINK": true,
              "FLATTEN_COLUMN_VALUES": true,
              "FLATTEN_INDEX_VALUES": false,
              "GENERATE_DEX_METADATA": false,
              "HTML_TABLE_SCHEMA": false,
              "LOG_LEVEL": 30,
              "MAX_RENDER_SIZE_BYTES": 104857600,
              "MAX_STRING_LENGTH": 250,
              "NUM_PAST_SAMPLES_TRACKED": 3,
              "RANDOM_STATE": 12648430,
              "RESET_INDEX_VALUES": false,
              "ROW_SAMPLING_METHOD": "random",
              "SAMPLING_FACTOR": 0.1,
              "SAMPLING_METHOD": "random",
              "STRINGIFY_COLUMN_VALUES": true,
              "STRINGIFY_INDEX_VALUES": false
            },
            "sample_history": [],
            "sampling_time": "2023-09-09T10:30:39.768118",
            "user_variable_name": null,
            "variable_name": "unk_dataframe_e74169a640584ef5887cce1fb843bc57"
          },
          "4a0dfaa4-f8d7-477f-8c24-423255ae87df": {
            "applied_filters": [],
            "dataframe_info": {
              "default_index_used": true,
              "orig_num_cols": 7,
              "orig_num_rows": 1000,
              "orig_size_bytes": 57000,
              "truncated_num_cols": 7,
              "truncated_num_rows": 1000,
              "truncated_size_bytes": 57000,
              "truncated_string_columns": []
            },
            "display_id": "4a0dfaa4-f8d7-477f-8c24-423255ae87df",
            "dx_settings": {
              "ALLOW_NOTEABLE_ATTRS": true,
              "COLUMN_SAMPLING_METHOD": "outer",
              "DB_LOCATION": ":memory:",
              "DEV_MODE": false,
              "DISPLAY_MAX_COLUMNS": 100,
              "DISPLAY_MAX_ROWS": 50000,
              "DISPLAY_MODE": "simple",
              "ENABLE_ASSIGNMENT": true,
              "ENABLE_DATALINK": true,
              "FLATTEN_COLUMN_VALUES": true,
              "FLATTEN_INDEX_VALUES": false,
              "GENERATE_DEX_METADATA": false,
              "HTML_TABLE_SCHEMA": false,
              "LOG_LEVEL": 30,
              "MAX_RENDER_SIZE_BYTES": 104857600,
              "MAX_STRING_LENGTH": 250,
              "NUM_PAST_SAMPLES_TRACKED": 3,
              "RANDOM_STATE": 12648430,
              "RESET_INDEX_VALUES": false,
              "ROW_SAMPLING_METHOD": "random",
              "SAMPLING_FACTOR": 0.1,
              "SAMPLING_METHOD": "random",
              "STRINGIFY_COLUMN_VALUES": true,
              "STRINGIFY_INDEX_VALUES": false
            },
            "sample_history": [],
            "sampling_time": "2023-09-09T10:37:34.048651",
            "user_variable_name": null,
            "variable_name": "unk_dataframe_e78271af3bdc4ddfb685b6eb982401f8"
          },
          "9db68de4-aec3-47c0-88f7-0bc788ec68e1": {
            "applied_filters": [],
            "dataframe_info": {
              "default_index_used": true,
              "orig_num_cols": 7,
              "orig_num_rows": 1000,
              "orig_size_bytes": 57000,
              "truncated_num_cols": 7,
              "truncated_num_rows": 1000,
              "truncated_size_bytes": 57000,
              "truncated_string_columns": []
            },
            "display_id": "9db68de4-aec3-47c0-88f7-0bc788ec68e1",
            "dx_settings": {
              "ALLOW_NOTEABLE_ATTRS": true,
              "COLUMN_SAMPLING_METHOD": "outer",
              "DB_LOCATION": ":memory:",
              "DEV_MODE": false,
              "DISPLAY_MAX_COLUMNS": 100,
              "DISPLAY_MAX_ROWS": 50000,
              "DISPLAY_MODE": "simple",
              "ENABLE_ASSIGNMENT": true,
              "ENABLE_DATALINK": true,
              "FLATTEN_COLUMN_VALUES": true,
              "FLATTEN_INDEX_VALUES": false,
              "GENERATE_DEX_METADATA": false,
              "HTML_TABLE_SCHEMA": false,
              "LOG_LEVEL": 30,
              "MAX_RENDER_SIZE_BYTES": 104857600,
              "MAX_STRING_LENGTH": 250,
              "NUM_PAST_SAMPLES_TRACKED": 3,
              "RANDOM_STATE": 12648430,
              "RESET_INDEX_VALUES": false,
              "ROW_SAMPLING_METHOD": "random",
              "SAMPLING_FACTOR": 0.1,
              "SAMPLING_METHOD": "random",
              "STRINGIFY_COLUMN_VALUES": true,
              "STRINGIFY_INDEX_VALUES": false
            },
            "sample_history": [],
            "sampling_time": "2023-09-09T10:58:20.514480",
            "user_variable_name": null,
            "variable_name": "unk_dataframe_29eac9696c184e37944932fb4f2c3e12"
          },
          "c1eab6d6-ef2b-4f77-b69b-e992ca26e2c1": {
            "applied_filters": [],
            "dataframe_info": {
              "default_index_used": true,
              "orig_num_cols": 7,
              "orig_num_rows": 1000,
              "orig_size_bytes": 57000,
              "truncated_num_cols": 7,
              "truncated_num_rows": 1000,
              "truncated_size_bytes": 57000,
              "truncated_string_columns": []
            },
            "display_id": "c1eab6d6-ef2b-4f77-b69b-e992ca26e2c1",
            "dx_settings": {
              "ALLOW_NOTEABLE_ATTRS": true,
              "COLUMN_SAMPLING_METHOD": "outer",
              "DB_LOCATION": ":memory:",
              "DEV_MODE": false,
              "DISPLAY_MAX_COLUMNS": 100,
              "DISPLAY_MAX_ROWS": 50000,
              "DISPLAY_MODE": "simple",
              "ENABLE_ASSIGNMENT": true,
              "ENABLE_DATALINK": true,
              "FLATTEN_COLUMN_VALUES": true,
              "FLATTEN_INDEX_VALUES": false,
              "GENERATE_DEX_METADATA": false,
              "HTML_TABLE_SCHEMA": false,
              "LOG_LEVEL": 30,
              "MAX_RENDER_SIZE_BYTES": 104857600,
              "MAX_STRING_LENGTH": 250,
              "NUM_PAST_SAMPLES_TRACKED": 3,
              "RANDOM_STATE": 12648430,
              "RESET_INDEX_VALUES": false,
              "ROW_SAMPLING_METHOD": "random",
              "SAMPLING_FACTOR": 0.1,
              "SAMPLING_METHOD": "random",
              "STRINGIFY_COLUMN_VALUES": true,
              "STRINGIFY_INDEX_VALUES": false
            },
            "sample_history": [],
            "sampling_time": "2023-09-09T11:02:30.430728",
            "user_variable_name": null,
            "variable_name": "unk_dataframe_3e6ee7d968894ca98a22147d15699805"
          },
          "e0e8daaa-e913-4e3a-98df-f46fb11cdfcf": {
            "applied_filters": [],
            "dataframe_info": {
              "default_index_used": true,
              "orig_num_cols": 7,
              "orig_num_rows": 1000,
              "orig_size_bytes": 57000,
              "truncated_num_cols": 7,
              "truncated_num_rows": 1000,
              "truncated_size_bytes": 57000,
              "truncated_string_columns": []
            },
            "display_id": "e0e8daaa-e913-4e3a-98df-f46fb11cdfcf",
            "dx_settings": {
              "ALLOW_NOTEABLE_ATTRS": true,
              "COLUMN_SAMPLING_METHOD": "outer",
              "DB_LOCATION": ":memory:",
              "DEV_MODE": false,
              "DISPLAY_MAX_COLUMNS": 100,
              "DISPLAY_MAX_ROWS": 50000,
              "DISPLAY_MODE": "simple",
              "ENABLE_ASSIGNMENT": true,
              "ENABLE_DATALINK": true,
              "FLATTEN_COLUMN_VALUES": true,
              "FLATTEN_INDEX_VALUES": false,
              "GENERATE_DEX_METADATA": false,
              "HTML_TABLE_SCHEMA": false,
              "LOG_LEVEL": 30,
              "MAX_RENDER_SIZE_BYTES": 104857600,
              "MAX_STRING_LENGTH": 250,
              "NUM_PAST_SAMPLES_TRACKED": 3,
              "RANDOM_STATE": 12648430,
              "RESET_INDEX_VALUES": false,
              "ROW_SAMPLING_METHOD": "random",
              "SAMPLING_FACTOR": 0.1,
              "SAMPLING_METHOD": "random",
              "STRINGIFY_COLUMN_VALUES": true,
              "STRINGIFY_INDEX_VALUES": false
            },
            "sample_history": [],
            "sampling_time": "2023-09-09T11:04:58.301323",
            "user_variable_name": null,
            "variable_name": "unk_dataframe_4449302f32e7452d92171ab6b6e907fa"
          },
          "757019eb-1eda-4864-a993-e74c83bc490e": {
            "applied_filters": [],
            "dataframe_info": {
              "default_index_used": true,
              "orig_num_cols": 7,
              "orig_num_rows": 1000,
              "orig_size_bytes": 57000,
              "truncated_num_cols": 7,
              "truncated_num_rows": 1000,
              "truncated_size_bytes": 57000,
              "truncated_string_columns": []
            },
            "display_id": "757019eb-1eda-4864-a993-e74c83bc490e",
            "dx_settings": {
              "ALLOW_NOTEABLE_ATTRS": true,
              "COLUMN_SAMPLING_METHOD": "outer",
              "DB_LOCATION": ":memory:",
              "DEV_MODE": false,
              "DISPLAY_MAX_COLUMNS": 100,
              "DISPLAY_MAX_ROWS": 50000,
              "DISPLAY_MODE": "simple",
              "ENABLE_ASSIGNMENT": true,
              "ENABLE_DATALINK": true,
              "FLATTEN_COLUMN_VALUES": true,
              "FLATTEN_INDEX_VALUES": false,
              "GENERATE_DEX_METADATA": false,
              "HTML_TABLE_SCHEMA": false,
              "LOG_LEVEL": 30,
              "MAX_RENDER_SIZE_BYTES": 104857600,
              "MAX_STRING_LENGTH": 250,
              "NUM_PAST_SAMPLES_TRACKED": 3,
              "RANDOM_STATE": 12648430,
              "RESET_INDEX_VALUES": false,
              "ROW_SAMPLING_METHOD": "random",
              "SAMPLING_FACTOR": 0.1,
              "SAMPLING_METHOD": "random",
              "STRINGIFY_COLUMN_VALUES": true,
              "STRINGIFY_INDEX_VALUES": false
            },
            "sample_history": [],
            "sampling_time": "2023-09-09T11:17:59.521745",
            "user_variable_name": null,
            "variable_name": "unk_dataframe_4802509a51c44cbd834603e0908a64a3"
          },
          "f0512891-e795-4c3a-86ba-9d006c7dfbe8": {
            "applied_filters": [],
            "dataframe_info": {
              "default_index_used": true,
              "orig_num_cols": 7,
              "orig_num_rows": 1000,
              "orig_size_bytes": 57000,
              "truncated_num_cols": 7,
              "truncated_num_rows": 1000,
              "truncated_size_bytes": 57000,
              "truncated_string_columns": []
            },
            "display_id": "f0512891-e795-4c3a-86ba-9d006c7dfbe8",
            "dx_settings": {
              "ALLOW_NOTEABLE_ATTRS": true,
              "COLUMN_SAMPLING_METHOD": "outer",
              "DB_LOCATION": ":memory:",
              "DEV_MODE": false,
              "DISPLAY_MAX_COLUMNS": 100,
              "DISPLAY_MAX_ROWS": 50000,
              "DISPLAY_MODE": "simple",
              "ENABLE_ASSIGNMENT": true,
              "ENABLE_DATALINK": true,
              "FLATTEN_COLUMN_VALUES": true,
              "FLATTEN_INDEX_VALUES": false,
              "GENERATE_DEX_METADATA": false,
              "HTML_TABLE_SCHEMA": false,
              "LOG_LEVEL": 30,
              "MAX_RENDER_SIZE_BYTES": 104857600,
              "MAX_STRING_LENGTH": 250,
              "NUM_PAST_SAMPLES_TRACKED": 3,
              "RANDOM_STATE": 12648430,
              "RESET_INDEX_VALUES": false,
              "ROW_SAMPLING_METHOD": "random",
              "SAMPLING_FACTOR": 0.1,
              "SAMPLING_METHOD": "random",
              "STRINGIFY_COLUMN_VALUES": true,
              "STRINGIFY_INDEX_VALUES": false
            },
            "sample_history": [],
            "sampling_time": "2023-09-09T11:22:43.904571",
            "user_variable_name": null,
            "variable_name": "unk_dataframe_5173ba0f81134abba5e335f7135a20c6"
          },
          "48e2f28d-5289-4b5c-8908-755754bf2942": {
            "applied_filters": [],
            "dataframe_info": {
              "default_index_used": true,
              "orig_num_cols": 7,
              "orig_num_rows": 1000,
              "orig_size_bytes": 57000,
              "truncated_num_cols": 7,
              "truncated_num_rows": 1000,
              "truncated_size_bytes": 57000,
              "truncated_string_columns": []
            },
            "display_id": "48e2f28d-5289-4b5c-8908-755754bf2942",
            "dx_settings": {
              "ALLOW_NOTEABLE_ATTRS": true,
              "COLUMN_SAMPLING_METHOD": "outer",
              "DB_LOCATION": ":memory:",
              "DEV_MODE": false,
              "DISPLAY_MAX_COLUMNS": 100,
              "DISPLAY_MAX_ROWS": 50000,
              "DISPLAY_MODE": "simple",
              "ENABLE_ASSIGNMENT": true,
              "ENABLE_DATALINK": true,
              "FLATTEN_COLUMN_VALUES": true,
              "FLATTEN_INDEX_VALUES": false,
              "GENERATE_DEX_METADATA": false,
              "HTML_TABLE_SCHEMA": false,
              "LOG_LEVEL": 30,
              "MAX_RENDER_SIZE_BYTES": 104857600,
              "MAX_STRING_LENGTH": 250,
              "NUM_PAST_SAMPLES_TRACKED": 3,
              "RANDOM_STATE": 12648430,
              "RESET_INDEX_VALUES": false,
              "ROW_SAMPLING_METHOD": "random",
              "SAMPLING_FACTOR": 0.1,
              "SAMPLING_METHOD": "random",
              "STRINGIFY_COLUMN_VALUES": true,
              "STRINGIFY_INDEX_VALUES": false
            },
            "sample_history": [],
            "sampling_time": "2023-09-09T11:34:24.911243",
            "user_variable_name": null,
            "variable_name": "unk_dataframe_0a4ae6b892f947d5a81809dc2006be9b"
          },
          "42c5e79e-282e-4fe5-9d57-a105d46595bd": {
            "applied_filters": [],
            "dataframe_info": {
              "default_index_used": true,
              "orig_num_cols": 7,
              "orig_num_rows": 1000,
              "orig_size_bytes": 57000,
              "truncated_num_cols": 7,
              "truncated_num_rows": 1000,
              "truncated_size_bytes": 57000,
              "truncated_string_columns": []
            },
            "display_id": "42c5e79e-282e-4fe5-9d57-a105d46595bd",
            "dx_settings": {
              "ALLOW_NOTEABLE_ATTRS": true,
              "COLUMN_SAMPLING_METHOD": "outer",
              "DB_LOCATION": ":memory:",
              "DEV_MODE": false,
              "DISPLAY_MAX_COLUMNS": 100,
              "DISPLAY_MAX_ROWS": 50000,
              "DISPLAY_MODE": "simple",
              "ENABLE_ASSIGNMENT": true,
              "ENABLE_DATALINK": true,
              "FLATTEN_COLUMN_VALUES": true,
              "FLATTEN_INDEX_VALUES": false,
              "GENERATE_DEX_METADATA": false,
              "HTML_TABLE_SCHEMA": false,
              "LOG_LEVEL": 30,
              "MAX_RENDER_SIZE_BYTES": 104857600,
              "MAX_STRING_LENGTH": 250,
              "NUM_PAST_SAMPLES_TRACKED": 3,
              "RANDOM_STATE": 12648430,
              "RESET_INDEX_VALUES": false,
              "ROW_SAMPLING_METHOD": "random",
              "SAMPLING_FACTOR": 0.1,
              "SAMPLING_METHOD": "random",
              "STRINGIFY_COLUMN_VALUES": true,
              "STRINGIFY_INDEX_VALUES": false
            },
            "sample_history": [],
            "sampling_time": "2023-09-09T11:35:59.268069",
            "user_variable_name": null,
            "variable_name": "unk_dataframe_5eea51d6224d4899a9118091cb1ad3bd"
          },
          "52163c1d-52a5-4fc7-9fdc-7daa47ef8f6f": {
            "applied_filters": [],
            "dataframe_info": {
              "default_index_used": true,
              "orig_num_cols": 7,
              "orig_num_rows": 1000,
              "orig_size_bytes": 57000,
              "truncated_num_cols": 7,
              "truncated_num_rows": 1000,
              "truncated_size_bytes": 57000,
              "truncated_string_columns": []
            },
            "display_id": "52163c1d-52a5-4fc7-9fdc-7daa47ef8f6f",
            "dx_settings": {
              "ALLOW_NOTEABLE_ATTRS": true,
              "COLUMN_SAMPLING_METHOD": "outer",
              "DB_LOCATION": ":memory:",
              "DEV_MODE": false,
              "DISPLAY_MAX_COLUMNS": 100,
              "DISPLAY_MAX_ROWS": 50000,
              "DISPLAY_MODE": "simple",
              "ENABLE_ASSIGNMENT": true,
              "ENABLE_DATALINK": true,
              "FLATTEN_COLUMN_VALUES": true,
              "FLATTEN_INDEX_VALUES": false,
              "GENERATE_DEX_METADATA": false,
              "HTML_TABLE_SCHEMA": false,
              "LOG_LEVEL": 30,
              "MAX_RENDER_SIZE_BYTES": 104857600,
              "MAX_STRING_LENGTH": 250,
              "NUM_PAST_SAMPLES_TRACKED": 3,
              "RANDOM_STATE": 12648430,
              "RESET_INDEX_VALUES": false,
              "ROW_SAMPLING_METHOD": "random",
              "SAMPLING_FACTOR": 0.1,
              "SAMPLING_METHOD": "random",
              "STRINGIFY_COLUMN_VALUES": true,
              "STRINGIFY_INDEX_VALUES": false
            },
            "sample_history": [],
            "sampling_time": "2023-09-09T11:59:10.994955",
            "user_variable_name": null,
            "variable_name": "unk_dataframe_8e5d7d52ce964a0d860263cd67fec5a0"
          },
          "5729a90a-8bd4-4463-965d-cc9261d4f8b2": {
            "applied_filters": [],
            "dataframe_info": {
              "default_index_used": true,
              "orig_num_cols": 7,
              "orig_num_rows": 1000,
              "orig_size_bytes": 57000,
              "truncated_num_cols": 7,
              "truncated_num_rows": 1000,
              "truncated_size_bytes": 57000,
              "truncated_string_columns": []
            },
            "display_id": "5729a90a-8bd4-4463-965d-cc9261d4f8b2",
            "dx_settings": {
              "ALLOW_NOTEABLE_ATTRS": true,
              "COLUMN_SAMPLING_METHOD": "outer",
              "DB_LOCATION": ":memory:",
              "DEV_MODE": false,
              "DISPLAY_MAX_COLUMNS": 100,
              "DISPLAY_MAX_ROWS": 50000,
              "DISPLAY_MODE": "simple",
              "ENABLE_ASSIGNMENT": true,
              "ENABLE_DATALINK": true,
              "FLATTEN_COLUMN_VALUES": true,
              "FLATTEN_INDEX_VALUES": false,
              "GENERATE_DEX_METADATA": false,
              "HTML_TABLE_SCHEMA": false,
              "LOG_LEVEL": 30,
              "MAX_RENDER_SIZE_BYTES": 104857600,
              "MAX_STRING_LENGTH": 250,
              "NUM_PAST_SAMPLES_TRACKED": 3,
              "RANDOM_STATE": 12648430,
              "RESET_INDEX_VALUES": false,
              "ROW_SAMPLING_METHOD": "random",
              "SAMPLING_FACTOR": 0.1,
              "SAMPLING_METHOD": "random",
              "STRINGIFY_COLUMN_VALUES": true,
              "STRINGIFY_INDEX_VALUES": false
            },
            "sample_history": [],
            "sampling_time": "2023-09-09T12:33:37.022967",
            "user_variable_name": null,
            "variable_name": "unk_dataframe_29e0cdd6bd954ac4aa547a65dcffcf30"
          },
          "618d1ac7-7662-410d-bb7f-d203d2c6d26c": {
            "applied_filters": [],
            "dataframe_info": {
              "default_index_used": true,
              "orig_num_cols": 7,
              "orig_num_rows": 1000,
              "orig_size_bytes": 57000,
              "truncated_num_cols": 7,
              "truncated_num_rows": 1000,
              "truncated_size_bytes": 57000,
              "truncated_string_columns": []
            },
            "display_id": "618d1ac7-7662-410d-bb7f-d203d2c6d26c",
            "dx_settings": {
              "ALLOW_NOTEABLE_ATTRS": true,
              "COLUMN_SAMPLING_METHOD": "outer",
              "DB_LOCATION": ":memory:",
              "DEV_MODE": false,
              "DISPLAY_MAX_COLUMNS": 100,
              "DISPLAY_MAX_ROWS": 50000,
              "DISPLAY_MODE": "simple",
              "ENABLE_ASSIGNMENT": true,
              "ENABLE_DATALINK": true,
              "FLATTEN_COLUMN_VALUES": true,
              "FLATTEN_INDEX_VALUES": false,
              "GENERATE_DEX_METADATA": false,
              "HTML_TABLE_SCHEMA": false,
              "LOG_LEVEL": 30,
              "MAX_RENDER_SIZE_BYTES": 104857600,
              "MAX_STRING_LENGTH": 250,
              "NUM_PAST_SAMPLES_TRACKED": 3,
              "RANDOM_STATE": 12648430,
              "RESET_INDEX_VALUES": false,
              "ROW_SAMPLING_METHOD": "random",
              "SAMPLING_FACTOR": 0.1,
              "SAMPLING_METHOD": "random",
              "STRINGIFY_COLUMN_VALUES": true,
              "STRINGIFY_INDEX_VALUES": false
            },
            "sample_history": [],
            "sampling_time": "2023-09-09T12:42:35.806560",
            "user_variable_name": null,
            "variable_name": "unk_dataframe_1eb0dcb6d6f7436ea1f5da7a1baf2518"
          }
        },
        "dx": {
          "dashboard": {
            "multiViews": []
          },
          "fieldMetadata": {},
          "updated": 1693895069083,
          "views": [
            {
              "annotationRules": [],
              "chart": {},
              "chartMode": "grid",
              "confoRules": [],
              "decoration": {
                "footer": "",
                "subtitle": "",
                "title": "Table"
              },
              "facets": [],
              "filterSettings": {
                "SHOW_FILTER_PANEL": true,
                "filters": []
              },
              "id": "first-view",
              "isDefault": true,
              "type": "public",
              "userID": ""
            },
            {
              "annotationRules": [],
              "chart": {
                "barProjection": "horizontal",
                "facets": [],
                "lineType": "line",
                "mapMode": "tile",
                "showTotal": false,
                "summaryType": "violin"
              },
              "chartMode": "grid",
              "confoRules": [],
              "decoration": {
                "footer": "",
                "subtitle": "",
                "title": "Table"
              },
              "facets": [],
              "filterSettings": {
                "SHOW_FILTER_PANEL": true,
                "filters": []
              },
              "id": "first-view",
              "isDefault": true,
              "isTransitory": true,
              "type": "public",
              "userID": ""
            }
          ]
        },
        "ExecuteTime": {
          "end_time": "2023-09-09T12:42:35.971772+00:00",
          "start_time": "2023-09-09T12:42:35.530311+00:00"
        }
      },
      "execution_count": null,
      "source": "pd.read_csv('worker_dataset.csv')",
      "outputs": []
    },
    {
      "id": "b833bc6a-59d2-4baa-a339-628becea29f8",
      "cell_type": "code",
      "metadata": {
        "jupyter": {
          "outputs_hidden": false,
          "source_hidden": false
        },
        "noteable": {
          "cell_type": "code",
          "output_collection_id": "4c2adfb9-5934-4961-b38d-4003bcdb9f53"
        },
        "ExecuteTime": {
          "end_time": "2023-09-09T12:42:36.483858+00:00",
          "start_time": "2023-09-09T12:42:36.323023+00:00"
        }
      },
      "execution_count": null,
      "source": "import pandas as pd\n# Reading the CSV file into a DataFrame\ndf = pd.read_csv('worker_dataset.csv')\n\n# Display the first few rows of the DataFrame\nprint(df.head())\n",
      "outputs": []
    },
    {
      "id": "6d9226b5-067e-4c24-94e8-e7f0578fede0",
      "cell_type": "markdown",
      "source": "#Exploratory Data Analysis (EDA) stage,\n",
      "metadata": {
        "noteable": {
          "cell_type": "markdown"
        }
      }
    },
    {
      "id": "b6d0ead8-ad74-45cd-88cb-789149cb730d",
      "cell_type": "code",
      "metadata": {
        "noteable": {
          "cell_type": "python",
          "output_collection_id": "88f1e632-d762-4e24-819a-0ff02d8ef888"
        },
        "jupyter": {
          "outputs_hidden": false
        },
        "ExecuteTime": {
          "end_time": "2023-09-09T12:42:36.661884+00:00",
          "start_time": "2023-09-09T12:42:36.490717+00:00"
        }
      },
      "execution_count": null,
      "source": "#Basic Statistics: Understand the basic statistics of each column.\nsummary = df.describe(include='all')\nprint(summary)",
      "outputs": []
    },
    {
      "id": "cde67479-1f88-4dfa-9575-1d1de477536e",
      "cell_type": "code",
      "metadata": {
        "jupyter": {
          "outputs_hidden": false,
          "source_hidden": false
        },
        "noteable": {
          "cell_type": "code",
          "output_collection_id": "18cff49d-7204-429a-96b0-65387c814f9b"
        },
        "ExecuteTime": {
          "end_time": "2023-09-09T12:42:36.835132+00:00",
          "start_time": "2023-09-09T12:42:36.668881+00:00"
        }
      },
      "execution_count": null,
      "source": "# Get the value counts for Occupation\noccupation_counts = df['Occupation'].value_counts()\nprint(\"Occupation Distribution:\")\nprint(occupation_counts)\nprint(\"\\n\")  # Just to add a new line for separation",
      "outputs": []
    },
    {
      "id": "d4650de7-5ef7-4ef8-b427-cd45068a31e8",
      "cell_type": "code",
      "metadata": {
        "jupyter": {
          "outputs_hidden": false,
          "source_hidden": false
        },
        "noteable": {
          "cell_type": "code",
          "output_collection_id": "4079d820-f9ec-47b9-a42a-de6df54a44e0"
        },
        "ExecuteTime": {
          "end_time": "2023-09-09T12:42:37.002932+00:00",
          "start_time": "2023-09-09T12:42:36.841592+00:00"
        }
      },
      "execution_count": null,
      "source": "# Get the value counts for ReasonForLeaving\nreason_counts = df['ReasonForLeaving'].value_counts()\nprint(\"Reason For Leaving Distribution:\")\nprint(reason_counts)",
      "outputs": []
    },
    {
      "id": "75b94dca-970e-4d0c-8743-ba1b51d7f412",
      "cell_type": "code",
      "metadata": {
        "jupyter": {
          "outputs_hidden": false,
          "source_hidden": false
        },
        "noteable": {
          "cell_type": "code",
          "output_collection_id": "fab7ba28-1a98-4600-b0fc-b80ce5b9c37f"
        },
        "ExecuteTime": {
          "end_time": "2023-09-09T12:42:37.440260+00:00",
          "start_time": "2023-09-09T12:42:37.008922+00:00"
        }
      },
      "execution_count": null,
      "source": "#Histograms: For numerical data like Age, to understand the distribution.\nimport matplotlib.pyplot as plt\n\n# Generate a histogram for Age\nplt.hist(df['Age'], bins=7, edgecolor='black', alpha=0.7)\nplt.title('Age Distribution of Workers')\nplt.xlabel('Age')\nplt.ylabel('Number of Workers')\nplt.grid(True, which='both', linestyle='--', linewidth=0.5)\nplt.show()\n",
      "outputs": []
    },
    {
      "id": "75f82366-6f76-466b-8d42-fc2fe0f548ae",
      "cell_type": "code",
      "metadata": {
        "jupyter": {
          "outputs_hidden": false,
          "source_hidden": false
        },
        "noteable": {
          "cell_type": "code",
          "output_collection_id": "e8dd8f6b-dd8c-48f8-a342-6f71283043f6"
        },
        "ExecuteTime": {
          "end_time": "2023-09-09T12:42:38.118124+00:00",
          "start_time": "2023-09-09T12:42:37.740490+00:00"
        }
      },
      "execution_count": null,
      "source": "# Bar plot for Occupation\noccupation_counts = df['Occupation'].value_counts()\noccupation_counts.plot(kind='bar', color='skyblue', edgecolor='black')\nplt.title('Number of Workers by Occupation')\nplt.xlabel('Occupation')\nplt.ylabel('Number of Workers')\nplt.xticks(rotation=45)\nplt.grid(axis='y', linestyle='--', linewidth=0.5)\nplt.show()",
      "outputs": []
    },
    {
      "id": "6dd22c5c-6a60-4439-a8b2-61f8ea90e361",
      "cell_type": "code",
      "metadata": {
        "jupyter": {
          "outputs_hidden": false,
          "source_hidden": false
        },
        "noteable": {
          "cell_type": "code",
          "output_collection_id": "72d79de9-6821-44d3-9f37-8ef6107efd3f"
        },
        "ExecuteTime": {
          "end_time": "2023-09-09T12:42:38.824753+00:00",
          "start_time": "2023-09-09T12:42:38.463004+00:00"
        }
      },
      "execution_count": null,
      "source": "# Bar plot for ReasonForLeaving\nreason_counts = df['ReasonForLeaving'].value_counts()\nreason_counts.plot(kind='bar', color='salmon', edgecolor='black')\nplt.title('Reasons for Leaving the Job')\nplt.xlabel('Reason')\nplt.ylabel('Number of Workers')\nplt.xticks(rotation=45)\nplt.grid(axis='y', linestyle='--', linewidth=0.5)\nplt.show()",
      "outputs": []
    },
    {
      "id": "fcc80df2-3461-4830-b1fd-f1b8bcae7690",
      "cell_type": "code",
      "metadata": {
        "jupyter": {
          "outputs_hidden": false,
          "source_hidden": false
        },
        "noteable": {
          "cell_type": "code",
          "output_collection_id": "7fea7e41-00e3-4e48-bf74-fb3640f2d3f9"
        },
        "ExecuteTime": {
          "end_time": "2023-09-09T12:42:39.393896+00:00",
          "start_time": "2023-09-09T12:42:38.978564+00:00"
        }
      },
      "execution_count": null,
      "source": "import matplotlib.pyplot as plt\nimport seaborn as sns\n\n# Box plot for Age by Occupation\nplt.figure(figsize=(12,6))\nsns.boxplot(x='Occupation', y='Age', data=df, palette='pastel')\nplt.title('Age Distribution by Occupation')\nplt.xlabel('Occupation')\nplt.ylabel('Age')\nplt.xticks(rotation=45)\nplt.grid(axis='y', linestyle='--', linewidth=0.5)\nplt.tight_layout()\nplt.show()",
      "outputs": []
    },
    {
      "id": "6b2a7ad3-4e85-4a0f-b42d-a6af9e35c83a",
      "cell_type": "code",
      "metadata": {
        "jupyter": {
          "outputs_hidden": false,
          "source_hidden": false
        },
        "noteable": {
          "cell_type": "code",
          "output_collection_id": "a3e1c7e0-0841-481f-b962-87c42646ec78"
        },
        "ExecuteTime": {
          "end_time": "2023-09-09T12:42:40.213426+00:00",
          "start_time": "2023-09-09T12:42:39.735665+00:00"
        }
      },
      "execution_count": null,
      "source": "# Box plot for Age by ReasonForLeaving\nplt.figure(figsize=(12,6))\nsns.boxplot(x='ReasonForLeaving', y='Age', data=df, palette='pastel')\nplt.title('Age Distribution by Reason for Leaving')\nplt.xlabel('Reason for Leaving')\nplt.ylabel('Age')\nplt.xticks(rotation=45)\nplt.grid(axis='y', linestyle='--', linewidth=0.5)\nplt.tight_layout()\nplt.show()",
      "outputs": []
    },
    {
      "id": "128da486-2b32-4755-95ef-1e5d33af4adf",
      "cell_type": "code",
      "metadata": {
        "jupyter": {
          "outputs_hidden": false,
          "source_hidden": false
        },
        "noteable": {
          "cell_type": "code",
          "output_collection_id": "78c9a1d4-a9f0-404a-b2ec-cc0ebfa18de9"
        },
        "ExecuteTime": {
          "end_time": "2023-09-09T12:42:40.696629+00:00",
          "start_time": "2023-09-09T12:42:40.465310+00:00"
        }
      },
      "execution_count": null,
      "source": "import matplotlib.pyplot as plt\n\n# Calculate the counts of current and former employees\nemployee_status_counts = df['IsCurrentEmployee'].value_counts()\n\n# Labels for the pie chart\nlabels = ['Former Employees', 'Current Employees'] if False in employee_status_counts.index else ['Current Employees', 'Former Employees']\n\n# Colors for the sections\ncolors = ['#FF9999', '#66B2FF']\n\n# Exploding the 2nd slice (i.e. 'Current Employees') for emphasis\nexplode = (0.1, 0) if False in employee_status_counts.index else (0, 0.1)\n\n# Plotting the Pie chart\nfig1, ax1 = plt.subplots()\nax1.pie(employee_status_counts, explode=explode, labels=labels, colors=colors, autopct='%1.1f%%',\n        shadow=True, startangle=90)\n\n# Equal aspect ratio ensures that pie is drawn as a circle.\nax1.axis('equal')  \nplt.title('Proportion of Current vs. Former Employees')\nplt.show()\n",
      "outputs": []
    },
    {
      "id": "c7eea8c3-f7c7-4f3e-8171-cc61a5ff1b43",
      "cell_type": "code",
      "metadata": {
        "jupyter": {
          "outputs_hidden": false,
          "source_hidden": false
        },
        "noteable": {
          "cell_type": "code",
          "output_collection_id": "5ef81932-8177-4d48-8fe0-a64b36994250"
        },
        "ExecuteTime": {
          "end_time": "2023-09-09T12:42:41.009248+00:00",
          "start_time": "2023-09-09T12:42:40.852738+00:00"
        }
      },
      "execution_count": null,
      "source": "missing_data = df.isnull().sum()\n\n# Display columns with missing data\nprint(missing_data[missing_data > 0])\n",
      "outputs": []
    },
    {
      "id": "f84b5b1c-776e-4285-a471-c234427ff73e",
      "cell_type": "code",
      "metadata": {
        "jupyter": {
          "outputs_hidden": false,
          "source_hidden": false
        },
        "noteable": {
          "cell_type": "code",
          "output_collection_id": "660115ee-30ab-4f7e-8d0b-226c3d114744"
        },
        "ExecuteTime": {
          "end_time": "2023-09-09T12:42:41.208667+00:00",
          "start_time": "2023-09-09T12:42:41.015185+00:00"
        }
      },
      "execution_count": null,
      "source": "import pandas as pd\nfrom datetime import datetime\n\n# Read the CSV file\ndf = pd.read_csv('worker_dataset.csv', parse_dates=['DateJoined', 'DateLeft'])\n\n# Calculate years worked\nnow = datetime.now()\ndf['YearsWorked'] = df.apply(lambda row: (row['DateLeft'] if pd.notna(row['DateLeft']) else now) - row['DateJoined'], axis=1)\n\n# Convert the time delta to years as a float\ndf['YearsWorked'] = df['YearsWorked'].dt.days / 365.25\n\n# Optionally, you can round the number of years to a desired precision, e.g., 2 decimal places:\ndf['YearsWorked'] = df['YearsWorked'].round(2)\n\n# Save the updated dataframe back to CSV\ndf.to_csv('worker_dataset_updated.csv', index=False)\n",
      "outputs": []
    },
    {
      "id": "a576da7b-4c05-449d-a841-7dc5cd2068e0",
      "cell_type": "code",
      "metadata": {
        "jupyter": {
          "outputs_hidden": false,
          "source_hidden": false
        },
        "noteable": {
          "cell_type": "code",
          "output_collection_id": "67b9aba8-5698-4912-9ba3-62d9d1fce043"
        },
        "ExecuteTime": {
          "end_time": "2023-09-09T12:42:41.923528+00:00",
          "start_time": "2023-09-09T12:42:41.564166+00:00"
        }
      },
      "execution_count": null,
      "source": "import pandas as pd\nimport matplotlib.pyplot as plt\n\n# Read the updated dataset\ndf = pd.read_csv('worker_dataset_updated.csv')\n\n# Histogram\nplt.figure(figsize=(10,6))\ndf['YearsWorked'].hist(bins=10, edgecolor='black', alpha=0.7)\nplt.title('Distribution of Years Worked by Workers')\nplt.xlabel('Years Worked')\nplt.ylabel('Number of Workers')\nplt.grid(False)\nplt.show()\n",
      "outputs": []
    },
    {
      "id": "f4267398-ceb1-4299-80a3-7c5e6f4fe7eb",
      "cell_type": "code",
      "metadata": {
        "jupyter": {
          "outputs_hidden": false,
          "source_hidden": false
        },
        "noteable": {
          "cell_type": "code",
          "output_collection_id": "98dded89-828e-4005-a74a-c574ae62156f"
        },
        "ExecuteTime": {
          "end_time": "2023-09-09T12:42:42.585755+00:00",
          "start_time": "2023-09-09T12:42:42.235790+00:00"
        }
      },
      "execution_count": null,
      "source": "#Box Plot: Distribution of Years Worked\nplt.figure(figsize=(10,6))\nplt.boxplot(df['YearsWorked'])\nplt.title('Box Plot of Years Worked by Workers')\nplt.ylabel('Years Worked')\nplt.show()\n",
      "outputs": []
    },
    {
      "id": "07482e42-f369-474b-863f-3a7b2d4adce2",
      "cell_type": "code",
      "metadata": {
        "jupyter": {
          "outputs_hidden": false,
          "source_hidden": false
        },
        "noteable": {
          "cell_type": "code",
          "output_collection_id": "95473a25-be7a-4f01-a284-54c4866fc583"
        },
        "ExecuteTime": {
          "end_time": "2023-09-09T12:42:43.126679+00:00",
          "start_time": "2023-09-09T12:42:42.729355+00:00"
        }
      },
      "execution_count": null,
      "source": "#Bar Plot: Average Years Worked by Occupation\navg_years_by_occupation = df.groupby('Occupation')['YearsWorked'].mean()\n\nplt.figure(figsize=(12,6))\navg_years_by_occupation.plot(kind='bar', color='skyblue', edgecolor='black', alpha=0.7)\nplt.title('Average Years Worked by Occupation')\nplt.ylabel('Average Years Worked')\nplt.xlabel('Occupation')\nplt.show()\n",
      "outputs": []
    },
    {
      "id": "8d80bfcc-acce-4ad7-8bdc-ac2dbc31c42b",
      "cell_type": "code",
      "metadata": {
        "jupyter": {
          "outputs_hidden": false,
          "source_hidden": false
        },
        "noteable": {
          "cell_type": "code",
          "output_collection_id": "7372ffaf-6f1b-4d41-93f4-935b434f8bcc"
        },
        "ExecuteTime": {
          "end_time": "2023-09-09T12:42:43.828349+00:00",
          "start_time": "2023-09-09T12:42:43.382541+00:00"
        }
      },
      "execution_count": null,
      "source": "import matplotlib.pyplot as plt\nimport seaborn as sns\n\n# Box Plot to visualize Age distribution by Reasons for Leaving\nplt.figure(figsize=(14,8))\nsns.boxplot(x='ReasonForLeaving', y='Age', data=df)\nplt.title('Age distribution by Reason for Leaving')\nplt.xlabel('Reason for Leaving')\nplt.ylabel('Age')\nplt.xticks(rotation=45)\nplt.show()\n",
      "outputs": []
    },
    {
      "id": "9515fecb-32f4-4c3c-aef3-79740f886a88",
      "cell_type": "code",
      "metadata": {
        "jupyter": {
          "outputs_hidden": false,
          "source_hidden": false
        },
        "noteable": {
          "cell_type": "code",
          "output_collection_id": "e267b315-defd-444c-8ede-2c1c9ec8fd42"
        },
        "ExecuteTime": {
          "end_time": "2023-09-09T12:42:44.294100+00:00",
          "start_time": "2023-09-09T12:42:44.135974+00:00"
        }
      },
      "execution_count": null,
      "source": "correlation_matrix = df.corr()\nprint(correlation_matrix)\n",
      "outputs": []
    },
    {
      "id": "20a73e2f-0f8e-45ba-9ca4-0ace34657ccc",
      "cell_type": "code",
      "metadata": {
        "jupyter": {
          "outputs_hidden": false,
          "source_hidden": false
        },
        "noteable": {
          "cell_type": "code",
          "output_collection_id": "5a58b431-228d-42e9-aecb-b20829fb8812"
        },
        "ExecuteTime": {
          "end_time": "2023-09-09T12:42:44.496644+00:00",
          "start_time": "2023-09-09T12:42:44.339758+00:00"
        }
      },
      "execution_count": null,
      "source": "# Grouping by 'ReasonForLeaving' and calculating the mean 'YearsWorked'\navg_years_by_reason = df.groupby('ReasonForLeaving')['YearsWorked'].mean().sort_values()\n\nprint(avg_years_by_reason)\n\n",
      "outputs": []
    },
    {
      "id": "45c78224-ecd6-4ee9-bf41-c3e23644c411",
      "cell_type": "code",
      "metadata": {
        "jupyter": {
          "outputs_hidden": false,
          "source_hidden": false
        },
        "noteable": {
          "cell_type": "code",
          "output_collection_id": "6b1cfb59-1ef4-4076-878d-70e081076a17"
        },
        "ExecuteTime": {
          "end_time": "2023-09-09T12:42:44.662707+00:00",
          "start_time": "2023-09-09T12:42:44.502913+00:00"
        }
      },
      "execution_count": null,
      "source": "average_tenure = df['YearsWorked'].mean()\nprint(f\"The average tenure of an employee is: {average_tenure:.2f} years.\")\n",
      "outputs": []
    },
    {
      "id": "fb2c619c-4469-4d05-bb07-fd873554e86d",
      "cell_type": "code",
      "metadata": {
        "jupyter": {
          "outputs_hidden": false,
          "source_hidden": false
        },
        "noteable": {
          "cell_type": "code",
          "output_collection_id": "4769bef4-2949-4d61-bd21-0e348a32f916"
        },
        "ExecuteTime": {
          "end_time": "2023-09-09T12:42:44.830754+00:00",
          "start_time": "2023-09-09T12:42:44.669651+00:00"
        }
      },
      "execution_count": null,
      "source": "df['DateLeft'] = pd.to_datetime(df['DateLeft'], errors='coerce')\n",
      "outputs": []
    },
    {
      "id": "3224ee45-e924-4719-a786-4dacdc8324b3",
      "cell_type": "code",
      "metadata": {
        "jupyter": {
          "outputs_hidden": false,
          "source_hidden": false
        },
        "noteable": {
          "cell_type": "code",
          "output_collection_id": "9074e683-545d-4802-bcdc-499aeea9aadb"
        },
        "ExecuteTime": {
          "end_time": "2023-09-09T12:42:45.255297+00:00",
          "start_time": "2023-09-09T12:42:44.837991+00:00"
        }
      },
      "execution_count": null,
      "source": "# Extracting the month when employees left\nfrom datetime import datetime\ndf['LeaveMonth'] = df['DateLeft'].dt.month\nmonthly_attrition = df['LeaveMonth'].value_counts().sort_index()\n\n# Plotting the data\nmonthly_attrition.plot(kind='bar', title='Monthly Attrition Rates')\nplt.xlabel('Month')\nplt.ylabel('Number of Employees Left')\nplt.show()\n",
      "outputs": []
    },
    {
      "id": "591e49d0-4736-4bb1-90a6-ecf202778468",
      "cell_type": "code",
      "metadata": {
        "jupyter": {
          "outputs_hidden": false,
          "source_hidden": false
        },
        "noteable": {
          "cell_type": "code",
          "output_collection_id": "18b7961a-da9e-4a6d-89d6-fd0210a25c36"
        },
        "ExecuteTime": {
          "end_time": "2023-09-09T12:42:45.721474+00:00",
          "start_time": "2023-09-09T12:42:45.377168+00:00"
        }
      },
      "execution_count": null,
      "source": "# Extracting the year when employees left\ndf['LeaveYear'] = df['DateLeft'].dt.year\nyearly_attrition = df['LeaveYear'].value_counts().sort_index()\n\n# Plotting the data\nyearly_attrition.plot(kind='bar', title='Yearly Attrition Rates')\nplt.xlabel('Year')\nplt.ylabel('Number of Employees Left')\nplt.show()\n",
      "outputs": []
    },
    {
      "id": "0a94278f-0099-400a-bb9e-e8c3fc81fb89",
      "cell_type": "code",
      "metadata": {
        "jupyter": {
          "outputs_hidden": false,
          "source_hidden": false
        },
        "noteable": {
          "cell_type": "code",
          "output_collection_id": "fad9a353-4ee5-4883-8a63-8776df580e85"
        },
        "ExecuteTime": {
          "end_time": "2023-09-09T12:42:46.191106+00:00",
          "start_time": "2023-09-09T12:42:46.033733+00:00"
        }
      },
      "execution_count": null,
      "source": "# Define the age bins and their labels\nage_bins = [20, 30, 40, 50, 60, 70]\nage_labels = ['20-29', '30-39', '40-49', '50-59', '60+']\n\n# Create a new column in the dataframe for age categories\ndf['AgeGroup'] = pd.cut(df['Age'], bins=age_bins, labels=age_labels, right=False)\n",
      "outputs": []
    },
    {
      "id": "8354bfa4-a40e-4c68-bf3f-568233bfe07e",
      "cell_type": "code",
      "metadata": {
        "jupyter": {
          "outputs_hidden": false,
          "source_hidden": false
        },
        "noteable": {
          "cell_type": "code",
          "output_collection_id": "1aef5788-e076-4499-90e5-8bd7d5b18088"
        },
        "ExecuteTime": {
          "end_time": "2023-09-09T12:42:46.606089+00:00",
          "start_time": "2023-09-09T12:42:46.235653+00:00"
        }
      },
      "execution_count": null,
      "source": "import matplotlib.pyplot as plt\nimport seaborn as sns\n\nsns.countplot(data=df, x='AgeGroup', order=age_labels)\nplt.title('Distribution of Workers in Different Age Groups')\nplt.ylabel('Number of Workers')\nplt.show()\n",
      "outputs": []
    },
    {
      "id": "0bb05b99-0afe-4e0b-b8dd-368388b415b4",
      "cell_type": "markdown",
      "source": "Analyze Reasons:\n\nWhat's the most common reason for leaving?\nIs there a particular occupation that has a higher rate of a specific reason for leaving?",
      "metadata": {
        "noteable": {
          "cell_type": "markdown"
        }
      }
    },
    {
      "id": "34114b1d-60a1-40db-a37e-e356aa225b03",
      "cell_type": "code",
      "metadata": {
        "noteable": {
          "cell_type": "python",
          "output_collection_id": "e91cf541-a2f9-42f9-8527-76d15d4f36db"
        },
        "ExecuteTime": {
          "end_time": "2023-09-09T12:42:46.959170+00:00",
          "start_time": "2023-09-09T12:42:46.802731+00:00"
        }
      },
      "execution_count": null,
      "source": "#1. Most Common Reason for Leaving\nmost_common_reason = df['ReasonForLeaving'].value_counts().idxmax()\ncount_most_common_reason = df['ReasonForLeaving'].value_counts().max()\n\nprint(f\"The most common reason for leaving is '{most_common_reason}' with {count_most_common_reason} occurrences.\")\n",
      "outputs": []
    },
    {
      "id": "e3e1165f-e7b6-4f21-a2d6-d18729e70691",
      "cell_type": "code",
      "metadata": {
        "jupyter": {
          "outputs_hidden": false,
          "source_hidden": false
        },
        "noteable": {
          "cell_type": "code",
          "output_collection_id": "019f4eba-9c80-47e8-b5b0-a58a42b555b0"
        },
        "ExecuteTime": {
          "end_time": "2023-09-09T12:42:47.133902+00:00",
          "start_time": "2023-09-09T12:42:46.964947+00:00"
        }
      },
      "execution_count": null,
      "source": "# Analyzing by Occupation\noccupation_reason = pd.crosstab(df['Occupation'], df['ReasonForLeaving'])\n\nprint(occupation_reason)\n",
      "outputs": []
    },
    {
      "id": "4dcaa12d-3572-42f7-ac52-b87c740be2d1",
      "cell_type": "code",
      "metadata": {
        "jupyter": {
          "outputs_hidden": false,
          "source_hidden": false
        },
        "noteable": {
          "cell_type": "code",
          "output_collection_id": "5be3c422-5624-4599-af6e-2bf77e699bf4"
        },
        "ExecuteTime": {
          "end_time": "2023-09-09T12:42:47.611515+00:00",
          "start_time": "2023-09-09T12:42:47.140871+00:00"
        }
      },
      "execution_count": null,
      "source": "occupation_reason.plot(kind='bar', figsize=(15,7))\nplt.title('Reason for Leaving by Occupation')\nplt.ylabel('Number of Workers')\nplt.show()\n",
      "outputs": []
    },
    {
      "id": "df379de9-fdf7-4e27-bf57-9f67470fcf03",
      "cell_type": "markdown",
      "source": "1. Average Age of Current vs. Former Employees",
      "metadata": {
        "noteable": {
          "cell_type": "markdown"
        }
      }
    },
    {
      "id": "00ea41a9-96dd-40e2-99ea-92c10e161844",
      "cell_type": "code",
      "metadata": {
        "noteable": {
          "cell_type": "python",
          "output_collection_id": "00dc9aa2-58af-420d-883e-b60781ed4f10"
        },
        "ExecuteTime": {
          "end_time": "2023-09-09T12:42:48.092744+00:00",
          "start_time": "2023-09-09T12:42:47.935866+00:00"
        }
      },
      "execution_count": null,
      "source": "average_age = df.groupby('IsCurrentEmployee')['Age'].mean()\n\nprint(f\"Average age of current employees: {average_age[True]:.2f}\")\nprint(f\"Average age of former employees: {average_age[False]:.2f}\")\n",
      "outputs": []
    },
    {
      "id": "2a841fcd-cb36-45b9-9288-2bdb001a6a33",
      "cell_type": "markdown",
      "source": "Occupation Distribution for Current vs. Former Employees",
      "metadata": {
        "noteable": {
          "cell_type": "markdown"
        }
      }
    },
    {
      "id": "9c71d388-8f05-46b1-8b39-a13123a9ee9f",
      "cell_type": "code",
      "metadata": {
        "noteable": {
          "cell_type": "python",
          "output_collection_id": "7a4131dd-8ee5-40ed-bf9a-79ab1e8a430d"
        },
        "ExecuteTime": {
          "end_time": "2023-09-09T12:42:48.296290+00:00",
          "start_time": "2023-09-09T12:42:48.136544+00:00"
        }
      },
      "execution_count": null,
      "source": "occupation_distribution = df.groupby(['Occupation', 'IsCurrentEmployee']).size().unstack()\n\nprint(occupation_distribution)\n",
      "outputs": []
    },
    {
      "id": "1bdd5e23-67b3-4dd1-b037-a5bd54d7c582",
      "cell_type": "code",
      "metadata": {
        "jupyter": {
          "outputs_hidden": false,
          "source_hidden": false
        },
        "noteable": {
          "cell_type": "code",
          "output_collection_id": "69994f59-79dc-4998-abbd-c298614c5a62"
        },
        "ExecuteTime": {
          "end_time": "2023-09-09T12:42:48.783131+00:00",
          "start_time": "2023-09-09T12:42:48.335363+00:00"
        }
      },
      "execution_count": null,
      "source": "occupation_distribution.plot(kind='bar', stacked=True, figsize=(10,7))\nplt.title('Occupation Distribution of Current vs. Former Employees')\nplt.ylabel('Number of Workers')\nplt.legend(title='Is Current Employee')\nplt.show()\n",
      "outputs": []
    },
    {
      "id": "e9a311ea-cc64-4561-a315-f517ca03d7e7",
      "cell_type": "markdown",
      "source": "1. Detecting Outliers for Age",
      "metadata": {
        "noteable": {
          "cell_type": "markdown"
        }
      }
    },
    {
      "id": "92340df0-12bc-4e2f-8b0b-2d4e1b545077",
      "cell_type": "code",
      "metadata": {
        "noteable": {
          "cell_type": "python",
          "output_collection_id": "f5176b9a-4ce0-453f-afc0-811313518798"
        },
        "ExecuteTime": {
          "end_time": "2023-09-09T12:42:49.156930+00:00",
          "start_time": "2023-09-09T12:42:48.999401+00:00"
        }
      },
      "execution_count": null,
      "source": "# Age\nQ1 = df['Age'].quantile(0.25)\nQ3 = df['Age'].quantile(0.75)\nIQR = Q3 - Q1\nlower_bound = Q1 - 1.5 * IQR\nupper_bound = Q3 + 1.5 * IQR\n\nage_outliers = df[(df['Age'] < lower_bound) | (df['Age'] > upper_bound)]\n",
      "outputs": []
    },
    {
      "id": "faec84af-2116-4f57-906a-505d0d6991f4",
      "cell_type": "code",
      "metadata": {
        "jupyter": {
          "outputs_hidden": false,
          "source_hidden": false
        },
        "noteable": {
          "cell_type": "code",
          "output_collection_id": "09ab2abc-ae78-44ff-86a0-c88dba725f73"
        },
        "ExecuteTime": {
          "end_time": "2023-09-09T12:42:49.409904+00:00",
          "start_time": "2023-09-09T12:42:49.165026+00:00"
        }
      },
      "execution_count": null,
      "source": "import matplotlib.pyplot as plt\nimport seaborn as sns\n\nsns.boxplot(x=df['Age'])\nplt.title('Boxplot of Age')\nplt.show()\n",
      "outputs": []
    },
    {
      "id": "97aed54c-f8cb-4413-b3a6-2d950ebc9809",
      "cell_type": "markdown",
      "source": "Detecting Outliers for DateJoined",
      "metadata": {
        "noteable": {
          "cell_type": "markdown"
        }
      }
    },
    {
      "id": "e2df74e3-28d3-4763-9f8e-518a94067c77",
      "cell_type": "code",
      "metadata": {
        "noteable": {
          "cell_type": "python",
          "output_collection_id": "b55ad4f2-6ad6-46e3-92df-0d4e8646492d"
        },
        "ExecuteTime": {
          "end_time": "2023-09-09T12:42:54.829307+00:00",
          "start_time": "2023-09-09T12:42:49.555156+00:00"
        }
      },
      "execution_count": null,
      "source": "df['DateJoined'].hist()\nplt.title('Histogram of DateJoined')\nplt.xlabel('Year Joined')\nplt.ylabel('Number of Employees')\nplt.show()\n",
      "outputs": []
    },
    {
      "id": "86fb7690-ab29-479e-a613-9782c9b1cb30",
      "cell_type": "code",
      "metadata": {
        "jupyter": {
          "outputs_hidden": false,
          "source_hidden": false
        },
        "noteable": {
          "cell_type": "code",
          "output_collection_id": "dde33cd4-7020-4994-a85d-a1fd0c614d29"
        },
        "ExecuteTime": {
          "end_time": "2023-09-09T12:42:55.292622+00:00",
          "start_time": "2023-09-09T12:42:55.136769+00:00"
        }
      },
      "execution_count": null,
      "source": "def categorize_age(age):\n    if 25 <= age <= 39:\n        return 'Young'\n    elif 40 <= age <= 54:\n        return 'Middle-aged'\n    elif 55 <= age <= 59:\n        return 'Old'\n    else:\n        return 'Other'\n\n# Apply the function to the Age column\ndf['AgeGroup'] = df['Age'].apply(categorize_age)\n",
      "outputs": []
    },
    {
      "id": "aa4c55a0-8983-47b2-bb27-ee4d60f37a1c",
      "cell_type": "code",
      "metadata": {
        "jupyter": {
          "outputs_hidden": false,
          "source_hidden": false
        },
        "noteable": {
          "cell_type": "code"
        }
      },
      "execution_count": null,
      "source": "",
      "outputs": []
    },
    {
      "id": "1f4c59b7-a6db-4822-b765-8e27acbe822c",
      "cell_type": "code",
      "metadata": {
        "jupyter": {
          "outputs_hidden": false,
          "source_hidden": false
        },
        "noteable": {
          "cell_type": "code",
          "output_collection_id": "c9ef7a6f-2eb2-4118-bae0-f130a393ef7f"
        },
        "ExecuteTime": {
          "end_time": "2023-09-09T12:42:55.493300+00:00",
          "start_time": "2023-09-09T12:42:55.336922+00:00"
        }
      },
      "execution_count": null,
      "source": "def categorize_years_worked(years):\n    if years <= 2:\n        return 'New'\n    elif 3 <= years <= 5:\n        return 'Intermediate'\n    else:\n        return 'Veteran'\n\n# Apply the function to the YearsWorked column\ndf['YearsWorkedCategory'] = df['YearsWorked'].apply(categorize_years_worked)\n",
      "outputs": []
    },
    {
      "id": "58d2efb6-eac7-45a1-b5e5-563aa072253c",
      "cell_type": "markdown",
      "source": "Time of Year Leaving: Since most workers leave between July and August, introduce a feature that indicates if an employee left during these peak months.",
      "metadata": {
        "noteable": {
          "cell_type": "markdown"
        }
      }
    },
    {
      "id": "73049a15-77b6-4a8e-8e65-0356000e91cc",
      "cell_type": "code",
      "metadata": {
        "jupyter": {
          "outputs_hidden": false,
          "source_hidden": false
        },
        "noteable": {
          "cell_type": "code",
          "output_collection_id": "34edcc9c-3842-4915-872a-bd09dec2ca05"
        },
        "ExecuteTime": {
          "end_time": "2023-09-09T12:33:56.198536+00:00",
          "start_time": "2023-09-09T12:33:56.035260+00:00"
        }
      },
      "execution_count": null,
      "source": "# Drop existing encoded columns if they exist\ncolumns_to_drop = [col for col in df.columns if 'Reason_' in col]\ndf = df.drop(columns=columns_to_drop, errors='ignore')\n\n# One-hot encode the 'ReasonForLeaving' column\nencoded_df = pd.get_dummies(df['ReasonForLeaving'], prefix='Reason')\n\n# Concatenate the encoded dataframe with the original dataframe\ndf = pd.concat([df, encoded_df], axis=1)\n\n# Convert 'DateLeft' to datetime format if it's not already\ndf['DateLeft'] = pd.to_datetime(df['DateLeft'])\n\ndef left_during_peak(date_left):\n    if date_left.month in [7, 8]:  # Check if the month is July or August\n        return 1\n    else:\n        return 0\n\n# Apply the function only to rows where DateLeft is not NaN\nmask = df['DateLeft'].notna()\ndf.loc[mask, 'LeftDuringPeak'] = df.loc[mask, 'DateLeft'].apply(left_during_peak)\n\n# Fill NaN values in the new column with 0\ndf['LeftDuringPeak'] = df['LeftDuringPeak'].fillna(0).astype(int)\n\n",
      "outputs": []
    },
    {
      "id": "1fc1792a-ab9e-47aa-a1a8-80154381d854",
      "cell_type": "code",
      "metadata": {
        "jupyter": {
          "outputs_hidden": false,
          "source_hidden": false
        },
        "noteable": {
          "cell_type": "code",
          "output_collection_id": "417cdf6e-5302-44ec-acf0-e28c1867920d"
        },
        "ExecuteTime": {
          "end_time": "2023-09-09T12:33:56.390790+00:00",
          "start_time": "2023-09-09T12:33:56.236797+00:00"
        }
      },
      "execution_count": null,
      "source": "#df.drop('ReasonForLeaving', axis=1, inplace=True)\n",
      "outputs": []
    },
    {
      "id": "d59d0c7b-4bbc-4c22-b7ab-d0f06a66c888",
      "cell_type": "code",
      "metadata": {
        "jupyter": {
          "outputs_hidden": false,
          "source_hidden": false
        },
        "noteable": {
          "cell_type": "code",
          "output_collection_id": "d1d3773b-a1c0-48ae-a288-97671a52bbd3"
        },
        "ExecuteTime": {
          "end_time": "2023-09-09T12:46:57.889083+00:00",
          "start_time": "2023-09-09T12:46:57.734291+00:00"
        }
      },
      "execution_count": null,
      "source": "print(df.columns)\n",
      "outputs": []
    },
    {
      "id": "39cffc64-8c84-41e7-b366-7c74cc2e28a2",
      "cell_type": "code",
      "metadata": {
        "jupyter": {
          "outputs_hidden": false,
          "source_hidden": false
        },
        "noteable": {
          "cell_type": "code",
          "output_collection_id": "07970a5a-7f15-44f3-8d64-daf0a5f86a11"
        },
        "ExecuteTime": {
          "end_time": "2023-09-09T12:51:42.077325+00:00",
          "start_time": "2023-09-09T12:51:41.922089+00:00"
        },
        "scrolled": false
      },
      "execution_count": null,
      "source": "numeric_columns = df.select_dtypes(include=['int64', 'float64']).columns\nprint(numeric_columns)\n",
      "outputs": []
    },
    {
      "id": "ed8bf0de-538f-48db-857c-64c9e4eaa704",
      "cell_type": "code",
      "metadata": {
        "jupyter": {
          "outputs_hidden": false,
          "source_hidden": false
        },
        "noteable": {
          "cell_type": "code",
          "output_collection_id": "0c9706cb-515d-41cd-b7b3-32cd62740b91"
        },
        "ExecuteTime": {
          "end_time": "2023-09-09T12:53:34.989231+00:00",
          "start_time": "2023-09-09T12:53:34.833042+00:00"
        }
      },
      "execution_count": null,
      "source": "categorical_columns = df.select_dtypes(include=['object', 'category']).columns\nprint(categorical_columns)\n",
      "outputs": []
    },
    {
      "id": "5ce557f1-7180-4e71-b84f-5a891d2b4d46",
      "cell_type": "code",
      "metadata": {
        "jupyter": {
          "outputs_hidden": false,
          "source_hidden": false
        },
        "noteable": {
          "cell_type": "code",
          "output_collection_id": "968a3020-0549-4fc0-b7b6-a3e7792826e7"
        },
        "ExecuteTime": {
          "end_time": "2023-09-09T12:55:08.007707+00:00",
          "start_time": "2023-09-09T12:55:07.852238+00:00"
        }
      },
      "execution_count": null,
      "source": "df.drop('WorkerID', axis=1, inplace=True)",
      "outputs": []
    },
    {
      "id": "80cc777b-2b41-4002-b659-480e99926f6d",
      "cell_type": "markdown",
      "source": "1. Data Preprocessing:\n\n\nHandle missing values.\nNormalize or standardize the data.\nOne-hot encode categorical variables.",
      "metadata": {
        "noteable": {
          "cell_type": "markdown"
        }
      }
    },
    {
      "id": "996fc2af-aa46-4743-9a74-3e80dc197f3a",
      "cell_type": "code",
      "metadata": {
        "noteable": {
          "cell_type": "python",
          "output_collection_id": "edcc2aa9-7730-496b-83c6-c25a011004c2"
        },
        "ExecuteTime": {
          "end_time": "2023-09-09T12:55:27.215804+00:00",
          "start_time": "2023-09-09T12:55:27.048496+00:00"
        }
      },
      "execution_count": null,
      "source": "from sklearn.preprocessing import StandardScaler, OneHotEncoder\nfrom sklearn.compose import ColumnTransformer\nfrom sklearn.pipeline import Pipeline\nfrom sklearn.impute import SimpleImputer\n\n# Assuming df is your dataframe\n\n# Define numeric and categorical features\nnumeric_features = ['Age', 'YearsWorked', 'LeaveMonth', 'LeaveYear']  # Add other numeric columns here\ncategorical_features = ['Occupation', 'DateJoined', 'ReasonForLeaving', 'AgeGroup',\n       'YearsWorkedCategory']  # Add other categorical columns here\n\n# Create transformers\nnumeric_transformer = Pipeline(steps=[\n    ('imputer', SimpleImputer(strategy='median')),\n    ('scaler', StandardScaler())])\n\ncategorical_transformer = Pipeline(steps=[\n    ('imputer', SimpleImputer(strategy='constant', fill_value='missing')),\n    ('onehot', OneHotEncoder(handle_unknown='ignore'))])\n\n# Combine transformers into a preprocessor step\npreprocessor = ColumnTransformer(\n    transformers=[\n        ('num', numeric_transformer, numeric_features),\n        ('cat', categorical_transformer, categorical_features)])\n\n# Preprocessing data\nX = preprocessor.fit_transform(df) \n",
      "outputs": []
    },
    {
      "id": "d532a1c5-bd66-4ebc-9256-d391d7006393",
      "cell_type": "code",
      "metadata": {
        "jupyter": {
          "outputs_hidden": false,
          "source_hidden": false
        },
        "noteable": {
          "cell_type": "code",
          "output_collection_id": "c0e1a432-c5c2-4b57-a3e6-5b1e6a077c70"
        },
        "ExecuteTime": {
          "end_time": "2023-09-09T12:56:37.692973+00:00",
          "start_time": "2023-09-09T12:56:37.533014+00:00"
        }
      },
      "execution_count": null,
      "source": "print(df.head())",
      "outputs": []
    },
    {
      "id": "100ccfa3-f571-42e4-8dce-30616097faf2",
      "cell_type": "markdown",
      "source": "Choose a Clustering Algorithm:\nLet's choose K-Means for now",
      "metadata": {
        "noteable": {
          "cell_type": "markdown"
        }
      }
    },
    {
      "id": "17ad7304-0963-4352-bf61-671c35000846",
      "cell_type": "code",
      "metadata": {
        "noteable": {
          "cell_type": "python",
          "output_collection_id": "09df9301-47ce-4e76-8e16-6a39f932bb84"
        },
        "ExecuteTime": {
          "end_time": "2023-09-09T13:04:26.609647+00:00",
          "start_time": "2023-09-09T13:04:26.407790+00:00"
        }
      },
      "execution_count": null,
      "source": "from sklearn.cluster import KMeans\n\n# Let's assume 3 clusters for now\nkmeans = KMeans(n_clusters=3, random_state=0)\nclusters = kmeans.fit_predict(X_pca if 'X_pca' in locals() else X)\n",
      "outputs": []
    },
    {
      "id": "d912f149-5ef0-4af3-a4fc-8e9e2ba91a6f",
      "cell_type": "code",
      "metadata": {
        "jupyter": {
          "outputs_hidden": false,
          "source_hidden": false
        },
        "noteable": {
          "cell_type": "code",
          "output_collection_id": "48580a4b-a923-44c5-a825-38d6f280a0cd"
        },
        "ExecuteTime": {
          "end_time": "2023-09-09T13:29:57.280772+00:00",
          "start_time": "2023-09-09T13:29:56.200258+00:00"
        }
      },
      "execution_count": null,
      "source": "from sklearn.decomposition import TruncatedSVD\n\n# Use TruncatedSVD instead of PCA\nsvd = TruncatedSVD(n_components=2)  # for visualization purposes\nX_svd = svd.fit_transform(X)\n",
      "outputs": []
    },
    {
      "id": "764108d9-888c-45bd-b56d-60ea205f6230",
      "cell_type": "code",
      "metadata": {
        "jupyter": {
          "outputs_hidden": false,
          "source_hidden": false
        },
        "noteable": {
          "cell_type": "code",
          "output_collection_id": "6d1d5f2b-5a01-4885-a77f-5a1cd63dc473"
        },
        "ExecuteTime": {
          "end_time": "2023-09-09T13:30:13.563512+00:00",
          "start_time": "2023-09-09T13:30:13.403783+00:00"
        }
      },
      "execution_count": null,
      "source": "X_dense = X.toarray()\n",
      "outputs": []
    },
    {
      "id": "7028f8f4-d1b6-440b-807f-1b73dc910980",
      "cell_type": "markdown",
      "source": "Determine the Number of Clusters:\nUse the elbow method to find an optimal number of clusters:",
      "metadata": {
        "noteable": {
          "cell_type": "markdown"
        }
      }
    },
    {
      "id": "9e94f547-d1ca-4317-bfad-22a0b373c03b",
      "cell_type": "markdown",
      "source": "from sklearn.decomposition import PCA\n\npca = PCA(n_components=2)  # for visualization purposes\nX_pca = pca.fit_transform(X)\n",
      "metadata": {
        "noteable": {
          "cell_type": "markdown"
        }
      }
    },
    {
      "id": "7332e2ea-40da-4baf-84b6-ca3ce8048f4c",
      "cell_type": "code",
      "metadata": {
        "noteable": {
          "cell_type": "python",
          "output_collection_id": "b9b85c96-87eb-4ee8-b8fe-337d10f0c53b"
        },
        "ExecuteTime": {
          "end_time": "2023-09-09T13:31:40.619807+00:00",
          "start_time": "2023-09-09T13:31:39.919047+00:00"
        }
      },
      "execution_count": null,
      "source": "# Compute clustering and compute inertia\ninertias = []\nks = range(1, 10)\n\nfor k in ks:\n    model = KMeans(n_clusters=k)\n    model.fit(X_pca if 'X_pca' in locals() else X)\n    inertias.append(model.inertia_)\n\n# Plot ks vs inertias\nimport matplotlib.pyplot as plt\n\nplt.plot(ks, inertias, '-o')\nplt.xlabel('number of clusters, k')\nplt.ylabel('inertia')\nplt.xticks(ks)\nplt.show()\n",
      "outputs": []
    },
    {
      "id": "2d01f071-5b62-421a-87a5-ca5643b5c279",
      "cell_type": "code",
      "metadata": {
        "jupyter": {
          "outputs_hidden": false,
          "source_hidden": false
        },
        "noteable": {
          "cell_type": "code",
          "output_collection_id": "bbbf156b-ce01-4967-9b95-bd85a720a317"
        },
        "ExecuteTime": {
          "end_time": "2023-09-09T13:34:03.635780+00:00",
          "start_time": "2023-09-09T13:34:03.233309+00:00"
        }
      },
      "execution_count": null,
      "source": "plt.scatter(X_svd[:, 0], X_svd[:, 1], c=clusters, cmap='viridis')\nplt.xlabel('Principal Component 1')\nplt.ylabel('Principal Component 2')\nplt.colorbar()\nplt.show()\n",
      "outputs": []
    },
    {
      "id": "65994aba-8bab-4aa8-938b-2690aeef30a9",
      "cell_type": "markdown",
      "source": "# One-hot encode the 'Occupation' column\noccupation_encoded_df = pd.get_dummies(df['Occupation'], prefix='Occupation')\n\n# Concatenate the encoded dataframe with the original dataframe\ndf = pd.concat([df, occupation_encoded_df], axis=1)\n\n",
      "metadata": {
        "noteable": {
          "cell_type": "markdown"
        }
      }
    },
    {
      "id": "e2ddcad5-4f93-4c1e-b6f3-8e9ecd9a22c7",
      "cell_type": "markdown",
      "source": "Safety Concerns Binary Feature: Given the prominence of safety concerns as a reason for leaving, especially among engineers, introduce a binary feature that indicates if an employee left due to safety concerns. take a note of every change including column hearders",
      "metadata": {
        "noteable": {
          "cell_type": "markdown"
        }
      }
    },
    {
      "id": "9f0fc168-09e8-4788-a5c7-bfb5266da840",
      "cell_type": "markdown",
      "source": "# Create a binary column for Safety Concerns\ndf['LeftDueToSafetyConcerns'] = df['ReasonForLeaving'].apply(lambda x: 1 if x == 'Safety Concerns' else 0)\n",
      "metadata": {
        "noteable": {
          "cell_type": "markdown"
        }
      }
    },
    {
      "id": "7f34d142-9ccf-4290-bc30-09e37d8e913c",
      "cell_type": "markdown",
      "source": "Interaction between occupation and reason for leaving:",
      "metadata": {
        "noteable": {
          "cell_type": "markdown"
        }
      }
    },
    {
      "id": "785b0b6d-433b-4581-b1b7-6d7eb4f2e0f6",
      "cell_type": "markdown",
      "source": "valid_reasons = df['ReasonForLeaving'].dropna().unique()\n\nfor occupation in ['Engineer', 'Miner', 'Geologist', 'Surveyor', 'Mechanic']:\n    for reason in valid_reasons:\n        interaction_col_name = f'Occupation_{occupation}_Reason_{reason}'\n        df[interaction_col_name] = df[f'Occupation_{occupation}'] * df[f'Reason_{reason}']\n\n",
      "metadata": {
        "noteable": {
          "cell_type": "markdown"
        }
      }
    },
    {
      "id": "579f386f-0d93-4d3b-b88e-031393eb320a",
      "cell_type": "markdown",
      "source": "Interaction between age and reason for leaving",
      "metadata": {
        "noteable": {
          "cell_type": "markdown"
        }
      }
    },
    {
      "id": "47a74a56-f2fe-49b3-be61-84106e30fab8",
      "cell_type": "markdown",
      "source": "for reason in valid_reasons:\n    interaction_col_name = f'Age_Reason_{reason}'\n    df[interaction_col_name] = df['Age'] * df[f'Reason_{reason}']\n",
      "metadata": {
        "noteable": {
          "cell_type": "markdown"
        }
      }
    },
    {
      "id": "7a22344f-3cd2-456e-8f5d-a687eb7f3d66",
      "cell_type": "markdown",
      "source": "Normalize Age: Given that age is a continuous variable and might have a wide range, normalize this feature to ensure that it's on the same scale as other features, making it more digestible for machine learning algorithms.",
      "metadata": {
        "noteable": {
          "cell_type": "markdown"
        }
      }
    },
    {
      "id": "92ccb04a-db38-4e58-9b43-8f06d8df4c91",
      "cell_type": "markdown",
      "source": "# Normalize the Age column\ndf['Age_normalized'] = (df['Age'] - df['Age'].min()) / (df['Age'].max() - df['Age'].min())\n",
      "metadata": {
        "noteable": {
          "cell_type": "markdown"
        }
      }
    },
    {
      "id": "1497b76f-58d1-408f-8f39-f4216a1a32b5",
      "cell_type": "markdown",
      "source": "Date Features: Extract specific date-related features from 'DateJoined' such as:\n\nMonth of joining.\nYear of joining.\nDay of the week of joining.",
      "metadata": {
        "noteable": {
          "cell_type": "markdown"
        }
      }
    },
    {
      "id": "519bf246-09cf-410e-9499-c6bd8adfcd0d",
      "cell_type": "markdown",
      "source": "# Ensure that 'DateJoined' is a datetime column\ndf['DateJoined'] = pd.to_datetime(df['DateJoined'])\n\n# Extract month of joining\ndf['MonthJoined'] = df['DateJoined'].dt.month\n\n# Extract year of joining\ndf['YearJoined'] = df['DateJoined'].dt.year\n\n# Extract day of the week of joining\n# The day of the week with Monday=0, Sunday=6\ndf['DayOfWeekJoined'] = df['DateJoined'].dt.dayofweek\n\n# If you prefer day names instead of numbers for the day of the week\ndf['DayNameJoined'] = df['DateJoined'].dt.day_name()\n",
      "metadata": {
        "noteable": {
          "cell_type": "markdown"
        }
      }
    },
    {
      "id": "124a6e17-1a8a-4d92-9005-570d0d98f8e5",
      "cell_type": "markdown",
      "source": "Drop Irrelevant Features: Features like 'WorkerID' may not have any predictive power, so it's generally a good idea to drop such features.",
      "metadata": {
        "noteable": {
          "cell_type": "markdown"
        }
      }
    },
    {
      "id": "b4f6d813-13e2-4116-b7cc-7f81ce56dac5",
      "cell_type": "markdown",
      "source": "df.drop('WorkerID', axis=1, inplace=True)\n",
      "metadata": {
        "noteable": {
          "cell_type": "markdown"
        }
      }
    },
    {
      "id": "fc884330-624c-44f2-9eb8-013be329329e",
      "cell_type": "markdown",
      "source": "Current vs. Former Employees Ratio: Create a feature to capture the ratio of current to former employees within each occupation. This can help identify if specific job roles have high attrition rates.",
      "metadata": {
        "noteable": {
          "cell_type": "markdown"
        }
      }
    },
    {
      "id": "3a895c3e-f11e-4197-a20a-3ab10a09941b",
      "cell_type": "markdown",
      "source": "# Group by 'Occupation' and 'IsCurrentEmployee' and get counts\ngrouped_counts = df.groupby(['Occupation', 'IsCurrentEmployee']).size().unstack(fill_value=0)\n\n# Calculate the ratio of current to former employees for each occupation\ngrouped_counts['CurrentToFormerRatio'] = grouped_counts[True] / (grouped_counts[False] + 1)  # +1 to avoid division by zero\n\n# Create a mapping from 'Occupation' to 'CurrentToFormerRatio'\noccupation_to_ratio = grouped_counts['CurrentToFormerRatio'].to_dict()\n\n# Map the ratio back to the main dataframe\ndf['CurrentToFormerRatio'] = df['Occupation'].map(occupation_to_ratio)\n",
      "metadata": {
        "noteable": {
          "cell_type": "markdown"
        }
      }
    },
    {
      "id": "33b8e856-014b-4d6b-a26b-2ab921a5dd65",
      "cell_type": "markdown",
      "source": "modeling process",
      "metadata": {
        "noteable": {
          "cell_type": "markdown"
        }
      }
    },
    {
      "id": "02659811-0b4c-409f-9a3a-2a427677bde2",
      "cell_type": "markdown",
      "source": "# One-hot encode the 'Occupation' column\ndf = pd.get_dummies(df, columns=['Occupation'], prefix='Occupation')\n",
      "metadata": {
        "noteable": {
          "cell_type": "markdown"
        }
      }
    },
    {
      "id": "0a16c6c5-69b4-4669-8f8a-169bde181e08",
      "cell_type": "markdown",
      "source": "df.drop(['DateJoined', 'DateLeft'], axis=1, inplace=True)\n\n",
      "metadata": {
        "noteable": {
          "cell_type": "markdown"
        }
      }
    },
    {
      "id": "f3606475-18db-4be9-9298-d614c5d70a7d",
      "cell_type": "markdown",
      "source": "print(df.head())\n",
      "metadata": {
        "noteable": {
          "cell_type": "markdown"
        }
      }
    },
    {
      "id": "0e012e8d-f275-4a84-8501-9efa580ccfdc",
      "cell_type": "markdown",
      "source": "Step 1: Data Preparation\nBefore feeding data into a machine learning algorithm, ensure the data is prepared:\n\nSplit the dataset into training and testing sets.\nEnsure all categorical data is encoded (either one-hot or label encoding).\nNormalize or standardize numerical features, if necessary.\nHandle any missing values.",
      "metadata": {
        "noteable": {
          "cell_type": "markdown"
        }
      }
    },
    {
      "id": "6fd1b6eb-583c-477e-aeb7-68ac4d76e427",
      "cell_type": "markdown",
      "source": "if 'ReasonForLeaving' in df.columns:\n    df.drop('ReasonForLeaving', axis=1, inplace=True)\n",
      "metadata": {
        "noteable": {
          "cell_type": "markdown"
        }
      }
    },
    {
      "id": "406a5615-a693-4d07-8fd9-4962fcfb2460",
      "cell_type": "markdown",
      "source": "print(df.dtypes)\n",
      "metadata": {
        "noteable": {
          "cell_type": "markdown"
        }
      }
    },
    {
      "id": "59e2f1e4-f08b-461b-9ad0-b67de9ee06e6",
      "cell_type": "markdown",
      "source": "df = pd.get_dummies(df, columns=['AgeGroup'], drop_first=True)\n",
      "metadata": {
        "noteable": {
          "cell_type": "markdown"
        }
      }
    },
    {
      "id": "3539033a-e8f3-4e95-92d3-c0d940cd9ba7",
      "cell_type": "markdown",
      "source": "df = pd.get_dummies(df, columns=['YearsWorkedCategory'], drop_first=True)\n",
      "metadata": {
        "noteable": {
          "cell_type": "markdown"
        }
      }
    },
    {
      "id": "b233fb96-5efe-4e12-8348-dc264377d08e",
      "cell_type": "markdown",
      "source": "# Given a sample dataframe 'df' and a column 'DayOfWeekJoined'\ndays = ['Monday', 'Tuesday', 'Wednesday', 'Thursday', 'Friday', 'Saturday', 'Sunday']\n\nfor day in days:\n    df[f'Day_{day}'] = (df['DayOfWeekJoined'] == day).astype(int)\n\n",
      "metadata": {
        "noteable": {
          "cell_type": "markdown"
        }
      }
    },
    {
      "id": "77b770e6-3dc3-4157-bc1d-8ea477ebc238",
      "cell_type": "markdown",
      "source": "df.info()\n\n",
      "metadata": {
        "noteable": {
          "cell_type": "markdown"
        }
      }
    },
    {
      "id": "5b0b609d-d4a5-4f8f-b04e-19507ab67553",
      "cell_type": "markdown",
      "source": "df.drop('DayOfWeekJoined', axis=1, inplace=True)\n",
      "metadata": {
        "noteable": {
          "cell_type": "markdown"
        }
      }
    },
    {
      "id": "03c73b1a-04a3-4b99-b36f-c749595d1680",
      "cell_type": "markdown",
      "source": "df = df.drop(columns=['LeaveYear', 'LeaveMonth'])\n",
      "metadata": {
        "noteable": {
          "cell_type": "markdown"
        }
      }
    },
    {
      "id": "d4ec6c09-9b1f-4111-b67e-2a392fb58a77",
      "cell_type": "markdown",
      "source": "print(df.head())\n\n",
      "metadata": {
        "noteable": {
          "cell_type": "markdown"
        }
      }
    },
    {
      "id": "7bc536bf-16bd-45da-a4a4-3ed3eb6b7ce7",
      "cell_type": "markdown",
      "source": "if 'DayNameJoined' in df.columns:\n    df.drop('DayNameJoined', axis=1, inplace=True)\n",
      "metadata": {
        "noteable": {
          "cell_type": "markdown"
        }
      }
    },
    {
      "id": "cb34eaf9-3f82-4f51-8094-427879e5e56b",
      "cell_type": "markdown",
      "source": "from sklearn.impute import KNNImputer\n\nimputer = KNNImputer(n_neighbors=5)\nX_train = imputer.fit_transform(X_train)\nX_test = imputer.transform(X_test)\n\n",
      "metadata": {
        "noteable": {
          "cell_type": "markdown"
        }
      }
    },
    {
      "id": "5a48319f-a810-43a6-bba4-0a4d8f0599c5",
      "cell_type": "markdown",
      "source": "# Import necessary libraries\nfrom sklearn.model_selection import train_test_split\nfrom sklearn.preprocessing import StandardScaler\n\n# Assuming `df` is your dataframe\n\n\n# Split the dataset into training and testing sets\nX = df.drop(columns=['IsCurrentEmployee'])  # assuming 'IsCurrentEmployee' is the target variable\ny = df['IsCurrentEmployee']\n\nX_train, X_test, y_train, y_test = train_test_split(X, y, test_size=0.2, random_state=42)\n\n# Standardize/Normalize the features\nscaler = StandardScaler()\nX_train = scaler.fit_transform(X_train)\nX_test = scaler.transform(X_test)\n",
      "metadata": {
        "noteable": {
          "cell_type": "markdown"
        }
      }
    },
    {
      "id": "0747744d-1f74-420d-95f2-a45831b1985b",
      "cell_type": "markdown",
      "source": "Step 2: Model Selection & Training\nStart with a simpler model and gradually explore more complex ones if needed:\n\nInitialize the model.\nTrain the model using the training dataset.\nUse cross-validation to get a more reliable measure of the model's performance",
      "metadata": {
        "noteable": {
          "cell_type": "markdown"
        }
      }
    },
    {
      "id": "3136df9b-e39f-419b-a371-b7668460b102",
      "cell_type": "markdown",
      "source": "1. Splitting the Data:",
      "metadata": {
        "noteable": {
          "cell_type": "markdown"
        }
      }
    },
    {
      "id": "875a2a4d-1c96-475d-bed9-9a3cfeafd75d",
      "cell_type": "markdown",
      "source": "from sklearn.model_selection import train_test_split\n\nX = df.drop('IsCurrentEmployee', axis=1)  # Assuming 'IsCurrentEmployee' is your target variable\ny = df['IsCurrentEmployee']\n\nX_train, X_test, y_train, y_test = train_test_split(X, y, test_size=0.3, random_state=42)\n",
      "metadata": {
        "noteable": {
          "cell_type": "markdown"
        }
      }
    },
    {
      "id": "db730fbf-26fa-4632-9aba-6ae38e43356a",
      "cell_type": "markdown",
      "source": "2. Logistic Regression:",
      "metadata": {
        "noteable": {
          "cell_type": "markdown"
        }
      }
    },
    {
      "id": "4aaf73be-397e-4fa2-babe-c216334919d3",
      "cell_type": "markdown",
      "source": "from sklearn.linear_model import LogisticRegression\n\nmodel = LogisticRegression(max_iter=1000, random_state=42)\n",
      "metadata": {
        "noteable": {
          "cell_type": "markdown"
        }
      }
    },
    {
      "id": "b7a99d05-646b-4f7d-a3de-2ff5adfcd58b",
      "cell_type": "markdown",
      "source": "X_train = X_train.fillna(X_train.mode())\nX_test = X_test.fillna(X_train.mean())\n\n",
      "metadata": {
        "noteable": {
          "cell_type": "markdown"
        }
      }
    },
    {
      "id": "b551bac4-a242-4213-ab95-313257d5bfd6",
      "cell_type": "markdown",
      "source": "X_train = X_train.dropna()\ny_train = y_train[X_train.index]\n",
      "metadata": {
        "noteable": {
          "cell_type": "markdown"
        }
      }
    },
    {
      "id": "7877e670-8793-450b-95b9-5fb12223e9e2",
      "cell_type": "markdown",
      "source": "from sklearn.impute import KNNImputer\n\nimputer = KNNImputer(n_neighbors=5)\nX_train = imputer.fit_transform(X_train)\nX_test = imputer.transform(X_test)\n",
      "metadata": {
        "noteable": {
          "cell_type": "markdown"
        }
      }
    },
    {
      "id": "1a024191-e802-466c-9acf-c030e8652f64",
      "cell_type": "markdown",
      "source": "from sklearn.linear_model import LogisticRegression\n\nmodel = LogisticRegression(max_iter=1000, random_state=42)\n",
      "metadata": {
        "noteable": {
          "cell_type": "markdown"
        }
      }
    },
    {
      "id": "e8d06474-bfcb-416e-bacf-41ed517cc5fa",
      "cell_type": "markdown",
      "source": "model.fit(X_train, y_train)\n",
      "metadata": {
        "noteable": {
          "cell_type": "markdown"
        }
      }
    },
    {
      "id": "62fcf0da-fc8f-42eb-b296-0ac2276850cd",
      "cell_type": "markdown",
      "source": "from sklearn.metrics import classification_report, accuracy_score\n\ny_pred = model.predict(X_test)\n\nprint(accuracy_score(y_test, y_pred))\nprint(classification_report(y_test, y_pred))\n",
      "metadata": {
        "noteable": {
          "cell_type": "markdown"
        }
      }
    },
    {
      "id": "898068af-c39c-48c7-87ac-92a9ab87a374",
      "cell_type": "markdown",
      "source": "from sklearn.impute import SimpleImputer\n\n# Mean imputation\nimputer = SimpleImputer(strategy='mode')\ndf['numerical_column'] = imputer.fit_transform(df[['numerical_column']])\n\n# Mode imputation for categorical columns\nimputer = SimpleImputer(strategy='most_frequent')\ndf['categorical_column'] = imputer.fit_transform(df[['categorical_column']])\n\n",
      "metadata": {
        "noteable": {
          "cell_type": "markdown"
        }
      }
    },
    {
      "id": "0b8c388d-e9a6-407f-bf8b-0532558f6235",
      "cell_type": "markdown",
      "source": "df.ffill(inplace=True)\n",
      "metadata": {
        "noteable": {
          "cell_type": "markdown"
        }
      }
    },
    {
      "id": "11746e19-91b3-496c-8c0b-46c41ddba077",
      "cell_type": "markdown",
      "source": "from sklearn.linear_model import LogisticRegression\nfrom sklearn.model_selection import cross_val_score\n\n# Initialize the model\nestimator = LogisticRegression()\n\n# Now, use the model in the cross_val_score function\nscores = cross_val_score(estimator, X, y, cv=5, error_score='raise')\n",
      "metadata": {
        "noteable": {
          "cell_type": "markdown"
        }
      }
    },
    {
      "id": "f7918970-6dd9-49b3-be36-d9942731ca34",
      "cell_type": "markdown",
      "source": "from sklearn.impute import SimpleImputer\n\nimputer = SimpleImputer(strategy=\"most_frequent\")  # or \"median\", \"most_frequent\" for mode\nX_train_imputed = imputer.fit_transform(X_train)\nX_test_imputed = imputer.transform(X_test)\n\n",
      "metadata": {
        "noteable": {
          "cell_type": "markdown"
        }
      }
    },
    {
      "id": "0cf61f03-d21a-43b2-ba04-34db86d2dad3",
      "cell_type": "markdown",
      "source": "from sklearn.experimental import enable_iterative_imputer\nfrom sklearn.impute import IterativeImputer\n\nimputer = IterativeImputer(max_iter=10, random_state=42)\nX_train_imputed = imputer.fit_transform(X_train)\nX_test_imputed = imputer.transform(X_test)\n",
      "metadata": {
        "noteable": {
          "cell_type": "markdown"
        }
      }
    },
    {
      "id": "cfc986a4-df02-4f8f-ae01-2b09e3f73318",
      "cell_type": "markdown",
      "source": "from sklearn.preprocessing import StandardScaler, OneHotEncoder\nfrom sklearn.compose import ColumnTransformer\nfrom sklearn.pipeline import Pipeline\nfrom sklearn.impute import SimpleImputer\n\n# Assuming df is your dataframe\n\n# Define numeric and categorical features\nnumeric_features = ['Age', 'YearsWorked']  # Add other numeric columns here\ncategorical_features = ['Occupation', 'DayNameJoined', 'AgeGroup', 'YearsWorkedCategory']  # Add other categorical columns here\n\n# Create transformers\nnumeric_transformer = Pipeline(steps=[\n    ('imputer', SimpleImputer(strategy='median')),\n    ('scaler', StandardScaler())])\n\ncategorical_transformer = Pipeline(steps=[\n    ('imputer', SimpleImputer(strategy='constant', fill_value='missing')),\n    ('onehot', OneHotEncoder(handle_unknown='ignore'))])\n\n# Combine transformers into a preprocessor step\npreprocessor = ColumnTransformer(\n    transformers=[\n        ('num', numeric_transformer, numeric_features),\n        ('cat', categorical_transformer, categorical_features)])\n\n# Preprocessing data\nX = preprocessor.fit_transform(df)\n\n",
      "metadata": {
        "noteable": {
          "cell_type": "markdown"
        }
      }
    },
    {
      "id": "734fd6bc-6ae5-4f7f-9fc8-fb5da7598170",
      "cell_type": "markdown",
      "source": "from sklearn.model_selection import cross_val_score\n\nscores = cross_val_score(model, X, y, cv=5, scoring='accuracy')\nprint(f\"Average Cross-Validation Accuracy: {scores.mean():.2f}\")\n",
      "metadata": {
        "noteable": {
          "cell_type": "markdown"
        }
      }
    },
    {
      "id": "58af10f3-72e3-4539-b721-a80a5c93ca2e",
      "cell_type": "markdown",
      "source": "from sklearn.dummy import DummyClassifier\ndummy = DummyClassifier(strategy='most_frequent')\ndummy.fit(X_train, y_train)\ndummy_score = dummy.score(X_test, y_test)\nprint(dummy_score)\n",
      "metadata": {
        "noteable": {
          "cell_type": "markdown"
        }
      }
    }
  ]
}