{
 "cells": [
  {
   "cell_type": "code",
   "execution_count": null,
   "id": "64d07170",
   "metadata": {},
   "outputs": [],
   "source": [
    "from sklearn.cluster import KMeans\n",
    "import pandas as pd\n",
    "import sqlite3\n",
    "\n",
    "# Load worker data and health records\n",
    "worker_df = pd.read_csv('worker_dataset.csv')\n",
    "health_records_df = pd.read_csv('health_records.csv')\n",
    "\n",
    "# Merge the two dataframes on 'WorkerID'\n",
    "merged_df = pd.merge(worker_df, health_records_df, on='WorkerID')\n",
    "\n",
    "# Select features for clustering (e.g., Age, InductionScore, etc.)\n",
    "X = merged_df[['Age', 'InductionScore']]\n",
    "\n",
    "# Perform k-means clustering\n",
    "kmeans = KMeans(n_clusters=3)\n",
    "merged_df['ClusterID'] = kmeans.fit_predict(X)\n",
    "\n",
    "# Create the clustering results table in a SQLite database\n",
    "con = sqlite3.connect('your_database.db')\n",
    "merged_df[['WorkerID', 'ClusterID']].to_sql('ClusteringResults', con, if_exists='replace', index=False)\n"
   ]
  }
 ],
 "metadata": {
  "kernelspec": {
   "display_name": "Python 3 (ipykernel)",
   "language": "python",
   "name": "python3"
  },
  "language_info": {
   "codemirror_mode": {
    "name": "ipython",
    "version": 3
   },
   "file_extension": ".py",
   "mimetype": "text/x-python",
   "name": "python",
   "nbconvert_exporter": "python",
   "pygments_lexer": "ipython3",
   "version": "3.9.12"
  }
 },
 "nbformat": 4,
 "nbformat_minor": 5
}
